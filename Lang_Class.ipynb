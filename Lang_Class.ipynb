{
 "cells": [
  {
   "cell_type": "markdown",
   "metadata": {},
   "source": [
    "# Language Classification"
   ]
  },
  {
   "cell_type": "markdown",
   "metadata": {},
   "source": [
    "## Overview\n",
    "\n",
    "My aim here is to build a language classifier for EU languages.\n",
    "\n",
    "Proposed Approach:\n",
    "1. Inspect test set\n",
    "1. Create dataset for training / validation\n",
    "1. Train / valid split\n",
    "1. Numericalize\n",
    "1. Build language classification model"
   ]
  },
  {
   "cell_type": "markdown",
   "metadata": {},
   "source": [
    "## Setup"
   ]
  },
  {
   "cell_type": "code",
   "execution_count": null,
   "metadata": {},
   "outputs": [],
   "source": [
    "import sys\n",
    "from pathlib import Path\n",
    "import time\n",
    "\n",
    "import numpy as np\n",
    "import pandas as pd\n",
    "from sklearn.model_selection import train_test_split\n",
    "\n",
    "from tqdm import tqdm\n",
    "import dill  # Better version of pickle, able to save objects with lambda expressions\n",
    "import copy  # Used for making a deep copy of a model\n",
    "from collections import Counter, defaultdict\n",
    "\n",
    "import matplotlib.pyplot as plt\n",
    "%matplotlib inline\n",
    "import seaborn as sns\n",
    "\n",
    "import torch\n",
    "import torch.nn as nn\n",
    "from torch.utils.data import TensorDataset, DataLoader\n",
    "import torch.optim as optim\n",
    "\n",
    "import utils"
   ]
  },
  {
   "cell_type": "code",
   "execution_count": null,
   "metadata": {},
   "outputs": [],
   "source": [
    "start = time.time()\n",
    "np.random.seed(1)"
   ]
  },
  {
   "cell_type": "markdown",
   "metadata": {},
   "source": [
    "## Settings"
   ]
  },
  {
   "cell_type": "code",
   "execution_count": null,
   "metadata": {},
   "outputs": [],
   "source": [
    "PATH = Path('data')  # Directory for all data and temporary files\n",
    "# Note: to run on the whole training set, specify PATH/'train' as the path.\n",
    "# However, since that corpus is huge, the learning rate will have to be reduced.\n",
    "# Also, the whole corpus will need a much higher training time.\n",
    "TRAIN = PATH/'train_sampl'  # Directory for training text\n",
    "TEST_FN = PATH/'test'  # Filename for test text\n",
    "PATH_TMP = PATH/'tmp'  # Temporary directory to save progress\n",
    "\n",
    "MIN_FREQ = 5  # We'll replace words with lower frequency with unknown\n",
    "SEQ_LEN = 32  # Length of the sequences passed into our GRU\n",
    "\n",
    "BS = 512  # Batch size for our RNN\n",
    "\n",
    "EMB_SZ = 300  # Dimension of word embeddings\n",
    "HIDDEN_SZ = 200  # Hidden layer dimension of the GRU\n",
    "EMB_DROP = 0.25  # Dropout applied to embeddings\n",
    "LAYER_DROP = 0.25  # Dropout applied after GRU\n",
    "\n",
    "# List of languages\n",
    "LANGS = list(map(lambda x: x.name, list(TRAIN.iterdir())))\n",
    "\n",
    "assert torch.cuda.is_available()  # Notebook is written for GPU computations."
   ]
  },
  {
   "cell_type": "code",
   "execution_count": null,
   "metadata": {},
   "outputs": [],
   "source": [
    "PATH_TMP.mkdir(parents=True, exist_ok=True)"
   ]
  },
  {
   "cell_type": "markdown",
   "metadata": {},
   "source": [
    "## Clarify Goal\n",
    "\n",
    "Let's first have a look at the test set we are trying to predict. It looks like a simple text classification task."
   ]
  },
  {
   "cell_type": "code",
   "execution_count": null,
   "metadata": {},
   "outputs": [],
   "source": [
    "test = pd.read_csv(TEST_FN, sep = '\\t', lineterminator='\\n', header=None)\n",
    "test.rename({0:'label', 1:'text'}, axis = 1, inplace=True)\n",
    "test[test['label'] == 'en'].head()"
   ]
  },
  {
   "cell_type": "markdown",
   "metadata": {},
   "source": [
    "Before going any further, let's apply some preprocessing. In particular, I apply the following steps:\n",
    "1. Remove uninformative meta-comments, such as who is speaking.\n",
    "1. Replace numbers with a generic *num* token. After all, the specific number shouldn't affect the classification results.\n",
    "1. Create a special end-of-sentence (*eos*) token.\n",
    "1. Replace all punctuation with a special *punc* token. \n",
    "1. Collapse adjecent white space. In other words, '&nbsp;&nbsp;&nbsp;&nbsp;&nbsp;' becomes '&nbsp;'."
   ]
  },
  {
   "cell_type": "code",
   "execution_count": null,
   "metadata": {},
   "outputs": [],
   "source": [
    "test['text'] = test['text'].apply(utils.preprocess)"
   ]
  },
  {
   "cell_type": "markdown",
   "metadata": {},
   "source": [
    "Let's check a random English and German sentence after pre-processing."
   ]
  },
  {
   "cell_type": "code",
   "execution_count": null,
   "metadata": {},
   "outputs": [],
   "source": [
    "print(test[test['label']=='en'].iloc[0][\"text\"])\n",
    "print('---')\n",
    "print(test[test['label']=='de'].iloc[0][\"text\"])"
   ]
  },
  {
   "cell_type": "code",
   "execution_count": null,
   "metadata": {
    "scrolled": true
   },
   "outputs": [],
   "source": [
    "def word_count(x): return len(x.split())\n",
    "def sentence_count(x): return len(x.split('<eos>')) - 1\n",
    "test['text'].apply([sentence_count, word_count, len]).describe()"
   ]
  },
  {
   "cell_type": "markdown",
   "metadata": {},
   "source": [
    "The target for our classification model has the following characteristics:\n",
    "1. The vast majority of examples are a single sentence.\n",
    "1. Most of the time, we have a decent number of words (15-33) to predict a language.\n",
    "1. However, we can have as little as 3 words. This might pose a challenge if those words are not language-specific.\n",
    "1. Content-wise, most sentences seem to be about parliamentary proceedings (my guess: proceedings of the EUP for more recent years)."
   ]
  },
  {
   "cell_type": "markdown",
   "metadata": {},
   "source": [
    "## Preprocess Training/Validation Data\n",
    "\n",
    "Our training set is of similar content, but in different format. Specifically, we don't have sentence-level chunks as in our test set, instead, we have files with different number of sentences. So we need to create a dataframe that resembles our test set.\n",
    "\n",
    "First, we take all files for a language and concatenate them together."
   ]
  },
  {
   "cell_type": "code",
   "execution_count": null,
   "metadata": {},
   "outputs": [],
   "source": [
    "# An example with English, we'll do all processing steps for all files below.\n",
    "exampl = utils.concat_docs('en', TRAIN)\n",
    "exampl[:200]"
   ]
  },
  {
   "cell_type": "markdown",
   "metadata": {},
   "source": [
    "Now we apply the same pre-processing as we did to our test set, and turn the whole corpus into a list of sentences."
   ]
  },
  {
   "cell_type": "code",
   "execution_count": null,
   "metadata": {},
   "outputs": [],
   "source": [
    "# Example continued.\n",
    "exampl = utils.txt2list(utils.preprocess(exampl[:1000]))\n",
    "exampl[:3]"
   ]
  },
  {
   "cell_type": "markdown",
   "metadata": {},
   "source": [
    "There is one last step we do. The test set had occasionally (although not often) multiple sentences. So we want to have, occasionally, multiple sentences in our training set as well. We can accomplish this by concatenating adjecent sentences together with a small probability (p = 0.02).\n",
    "\n",
    "Let's apply all the above steps to all languages. I will also put everything into a dataframe with an extra column giving the language label."
   ]
  },
  {
   "cell_type": "code",
   "execution_count": null,
   "metadata": {},
   "outputs": [],
   "source": [
    "dfs = []  # List to store data frames\n",
    "for lang in LANGS:\n",
    "    print(' '+lang+' ', end = \"\")\n",
    "    txt = utils.concat_docs(lang, TRAIN)  # Concatenate all files\n",
    "    txt = utils.preprocess(txt)  # Apply preprocessing described in test section\n",
    "    txt = utils.txt2list(txt)  # Convert to list\n",
    "    txt = utils.concat_random_sent(txt, p = 0.02)  # Concatenate random adjecent sentences\n",
    "    temp_df = pd.DataFrame({'text':txt})  \n",
    "    temp_df['label'] = lang\n",
    "    dfs.append(temp_df)\n",
    "df = pd.concat(dfs)[['label', 'text']]\n",
    "df.reset_index(inplace=True, drop = True)\n",
    "df.head()"
   ]
  },
  {
   "cell_type": "code",
   "execution_count": null,
   "metadata": {},
   "outputs": [],
   "source": [
    "df['text'].apply([sentence_count, word_count, len]).describe()"
   ]
  },
  {
   "cell_type": "markdown",
   "metadata": {},
   "source": [
    "Our resulting dataframe looks very similar to our test set. \n",
    "\n",
    "One difference: wee don't go quite as high on the maximum words and sentences. That's not going to matter though, as later on I will truncate all text at 32 words anyway."
   ]
  },
  {
   "cell_type": "code",
   "execution_count": null,
   "metadata": {},
   "outputs": [],
   "source": [
    "del(dfs, temp_df, txt, exampl)\n",
    "dill.dump(df, open(PATH_TMP/'df.pickle', mode = 'wb'))"
   ]
  },
  {
   "cell_type": "code",
   "execution_count": null,
   "metadata": {},
   "outputs": [],
   "source": [
    "#df = dill.load(open(PATH_TMP/'df.pickle', mode = 'rb'))"
   ]
  },
  {
   "cell_type": "markdown",
   "metadata": {},
   "source": [
    "## Train/Validation Split\n",
    "\n",
    "Let's split the data for training and validation. No big surprises here.\n",
    "\n",
    "I use 1% of the data as validation. If that seems unusual, note that our dataset contains ~2 million rows, so our validation set will contain ~20k. I'm only using the validation set to monitor performance and check for over-fitting; 20k examples are more than enough for that."
   ]
  },
  {
   "cell_type": "code",
   "execution_count": null,
   "metadata": {},
   "outputs": [],
   "source": [
    "len(df.index)"
   ]
  },
  {
   "cell_type": "code",
   "execution_count": null,
   "metadata": {},
   "outputs": [],
   "source": [
    "X_train, X_val, y_train, y_val = train_test_split(np.array(df['text']), np.array(df['label']), \n",
    "                                                  test_size=0.01, random_state=42)\n",
    "y_train"
   ]
  },
  {
   "cell_type": "code",
   "execution_count": null,
   "metadata": {},
   "outputs": [],
   "source": [
    "del(df)"
   ]
  },
  {
   "cell_type": "markdown",
   "metadata": {},
   "source": [
    "## Numericalize\n",
    "\n",
    "We need to turn our words into intiger indices. Later we use these indices to look up the embeddings for each word.\n",
    "\n",
    "Let's start by counting the number of times a word appears in our training data."
   ]
  },
  {
   "cell_type": "code",
   "execution_count": null,
   "metadata": {},
   "outputs": [],
   "source": [
    "words = Counter()\n",
    "for row in tqdm(X_train, position=0, leave=False): words.update(row.split())\n",
    "words.most_common(10)"
   ]
  },
  {
   "cell_type": "markdown",
   "metadata": {},
   "source": [
    "No big surprises: the most frequent words are punctuation, end-of-sentence tokens, articles and prepositions.\n",
    "\n",
    "Now we drop all words under 5 (what is specified under MIN_FREQ). Doing so is to make our embedding matrix smaller. Decreasing MIN_FREQ will increase the accuracy of our model, at a higher memory and computation cost.\n",
    "\n",
    "We also add two special tokens: unknown (*unk*) and padding (*pad*). Unknown is any word not appearing in our list. These are any new words in our test or validation set, as well as the words we previously dropped due to low frequence. Padding will later be used to make all sequences equal length. "
   ]
  },
  {
   "cell_type": "code",
   "execution_count": null,
   "metadata": {},
   "outputs": [],
   "source": [
    "words = {k:v for k, v in tqdm(words.items(), leave = False) if v >= MIN_FREQ}\n",
    "words = sorted(words, key=words.get, reverse=True)\n",
    "words = ['<unk>','<pad>'] + words"
   ]
  },
  {
   "cell_type": "code",
   "execution_count": null,
   "metadata": {},
   "outputs": [],
   "source": [
    "vocab_size = len(words)\n",
    "vocab_size"
   ]
  },
  {
   "cell_type": "markdown",
   "metadata": {},
   "source": [
    "We have more than 300k unique words. Now we need to create a mapping from words to integers (and back). I'll use the dictionaries below to do so.\n",
    "\n",
    "Note that unknown is mapped to 0, and padding is mapped to 1 (they are the first two elements by construction)."
   ]
  },
  {
   "cell_type": "code",
   "execution_count": null,
   "metadata": {},
   "outputs": [],
   "source": [
    "word2idx = defaultdict(lambda: 0, {o:i for i,o in enumerate(words)})\n",
    "idx2word = defaultdict(lambda: '<unk>', {i:o for i,o in enumerate(words)})"
   ]
  },
  {
   "cell_type": "markdown",
   "metadata": {},
   "source": [
    "Here is the first sentence of the training set converted into indices:"
   ]
  },
  {
   "cell_type": "code",
   "execution_count": null,
   "metadata": {},
   "outputs": [],
   "source": [
    "print([word2idx[w] for w in X_train[0].split()])"
   ]
  },
  {
   "cell_type": "markdown",
   "metadata": {},
   "source": [
    "Now we apply the above to the whole training set. I also truncate long sentences at 32 words -- that should be more than enough to classify a language, and having more words would needlessly slow down computation time.\n",
    "\n",
    "I also pad sentences that are shorter than 32 with the special padding character. This way, all example are of equal length, making subsequent computations easier."
   ]
  },
  {
   "cell_type": "code",
   "execution_count": null,
   "metadata": {},
   "outputs": [],
   "source": [
    "X_train = utils.numericalize(X_train, word2idx, maxlen = SEQ_LEN)\n",
    "X_val = utils.numericalize(X_val, word2idx, maxlen = SEQ_LEN)\n",
    "print(X_train.shape"
   ]
  },
  {
   "cell_type": "markdown",
   "metadata": {},
   "source": [
    "Of course, we can alway convert our indices back. Below is our first training example converted back to text."
   ]
  },
  {
   "cell_type": "code",
   "execution_count": null,
   "metadata": {},
   "outputs": [],
   "source": [
    "utils.de_numericalize(X_train[:1], idx2word)"
   ]
  },
  {
   "cell_type": "markdown",
   "metadata": {},
   "source": [
    "We'll also replace languages with contiguous integers."
   ]
  },
  {
   "cell_type": "code",
   "execution_count": null,
   "metadata": {},
   "outputs": [],
   "source": [
    "lang2idx = defaultdict(lambda: 0, {o:i for i,o in enumerate(LANGS)})\n",
    "idx2lang = defaultdict(lambda: '<unk>', {i:o for i,o in enumerate(LANGS)})"
   ]
  },
  {
   "cell_type": "code",
   "execution_count": null,
   "metadata": {},
   "outputs": [],
   "source": [
    "print(y_train[:5])  # Before\n",
    "y_train = np.array([lang2idx[x] for x in y_train])\n",
    "y_val = np.array([lang2idx[x] for x in y_val])\n",
    "print(y_train[:5])  # After"
   ]
  },
  {
   "cell_type": "code",
   "execution_count": null,
   "metadata": {},
   "outputs": [],
   "source": [
    "with open(PATH_TMP/'numericalized.pickle', mode = 'wb') as f:\n",
    "    dill.dump([words, vocab_size, word2idx, idx2word, X_train, X_val, y_train, y_val], f)"
   ]
  },
  {
   "cell_type": "code",
   "execution_count": null,
   "metadata": {},
   "outputs": [],
   "source": [
    "#with open(PATH_TMP/'numericalized.pickle', mode = 'rb') as f:\n",
    "#    (words, vocab_size, word2idx, idx2word, X_train, X_val, y_train, y_val) = dill.load(f)"
   ]
  },
  {
   "cell_type": "code",
   "execution_count": null,
   "metadata": {},
   "outputs": [],
   "source": [
    "end = time.time()\n",
    "print(f'Time after pre-processing : {(end - start)/60} mins')"
   ]
  },
  {
   "cell_type": "markdown",
   "metadata": {},
   "source": [
    "## Define Dataloaders\n",
    "\n",
    "We take our training and validation data, convert them from numpy arrays to torch tensors, and put them in dataloaders. "
   ]
  },
  {
   "cell_type": "code",
   "execution_count": null,
   "metadata": {},
   "outputs": [],
   "source": [
    "X_train = torch.from_numpy(X_train).type(torch.int64)\n",
    "y_train = torch.from_numpy(y_train).type(torch.int64)\n",
    "X_val = torch.from_numpy(X_val).type(torch.int64)\n",
    "y_val = torch.from_numpy(y_val).type(torch.int64)\n",
    "\n",
    "train_dl = DataLoader(TensorDataset(X_train, y_train), batch_size=BS, shuffle = True)\n",
    "valid_dl = DataLoader(TensorDataset(X_val, y_val), batch_size=BS, shuffle = False)"
   ]
  },
  {
   "cell_type": "markdown",
   "metadata": {},
   "source": [
    "## Define Model\n",
    "\n"
   ]
  },
  {
   "cell_type": "code",
   "execution_count": null,
   "metadata": {},
   "outputs": [],
   "source": [
    "class Lang_Detect(nn.Module):\n",
    "    def __init__(self, emb_sz = EMB_SZ, vocab_size = vocab_size,\n",
    "                 hidden_sz = HIDDEN_SZ, out_sz = len(LANGS), \n",
    "                 emb_drop = EMB_DROP, layer_drop = LAYER_DROP):\n",
    "        super().__init__()\n",
    "        self.emb = nn.Embedding(vocab_size, emb_sz)\n",
    "        self.emb_drop = nn.Dropout(emb_drop)\n",
    "        self.emb.weight.data.uniform_(-0.05, 0.05)\n",
    "        self.gru = nn.GRU(emb_sz, hidden_sz)\n",
    "        self.drop = nn.Dropout(layer_drop)\n",
    "        self.lout = nn.Linear(hidden_sz, out_sz)\n",
    "        self.hidden_sz = hidden_sz\n",
    "                \n",
    "    def forward(self, seq): \n",
    "        bs, _ = seq.shape\n",
    "        h =  torch.zeros(1, bs, self.hidden_sz).cuda()\n",
    "        embedded = self.emb(seq).transpose(0, 1)\n",
    "        outputs, _ = self.gru(self.emb_drop(embedded), h)\n",
    "        output = self.lout(self.drop(outputs[-1]))\n",
    "        return output"
   ]
  },
  {
   "cell_type": "code",
   "execution_count": null,
   "metadata": {},
   "outputs": [],
   "source": [
    "model = Lang_Detect().cuda()"
   ]
  },
  {
   "cell_type": "code",
   "execution_count": null,
   "metadata": {},
   "outputs": [],
   "source": [
    "loss_func = nn.CrossEntropyLoss().cuda()"
   ]
  },
  {
   "cell_type": "code",
   "execution_count": null,
   "metadata": {},
   "outputs": [],
   "source": [
    "def loss_batch(xb, yb, model, loss_func, opt=None):\n",
    "    '''https://github.com/fastai/fastai_v1/blob/master/dev_nb/001a_nn_basics.ipynb'''\n",
    "    # Note: changed this by adding yb.view(-1) to match dimensions\n",
    "\n",
    "    loss = loss_func(model(xb.cuda()), yb.cuda())\n",
    "\n",
    "    if opt is not None:\n",
    "        loss.backward()\n",
    "        opt.step()\n",
    "        opt.zero_grad()\n",
    "\n",
    "    return loss.item(), len(xb)"
   ]
  },
  {
   "cell_type": "code",
   "execution_count": null,
   "metadata": {},
   "outputs": [],
   "source": [
    "class Learner(object):\n",
    "    \n",
    "    def __init__(self, model, loss_func, train_dl = None, valid_dl = None):\n",
    "        self.model = model\n",
    "        self.loss_func = loss_func\n",
    "        self.train_dl = train_dl\n",
    "        self.valid_dl = valid_dl\n",
    "        self.losses = []\n",
    "    \n",
    "    def lr_find(self, start = 1e-6, end = 1e3, exp_smooth_param = 0.95):\n",
    "        \n",
    "        self.losses = []\n",
    "        old_state_dict = copy.deepcopy(self.model.state_dict())\n",
    "        self.model.train()\n",
    "        lr = start; lrs = []; losses = []; i = 0\n",
    "        for xb,yb in tqdm(self.train_dl, leave = False,\n",
    "                         position = 0):\n",
    "            opt = optim.Adam(self.model.parameters(), lr=lr)\n",
    "            loss, _ = loss_batch(xb, yb, self.model, self.loss_func, opt)\n",
    "            lrs.append(lr), losses.append(loss)\n",
    "            if (lr > end) or (i > 10 and loss > 3*np.mean(losses[:i])):\n",
    "                break\n",
    "            lr *= 1.03; i += 1        \n",
    "        self.losses = losses\n",
    "        self.plot_loss(x = lrs, xlog=True, exp_smooth_param = exp_smooth_param)\n",
    "        self.losses = []  # Reset list\n",
    "        self.model.load_state_dict(old_state_dict)\n",
    "        \n",
    "    def plot_loss(self, x = None, xlog = False, exp_smooth_param = 0.95,\n",
    "                 skip_edges = False):\n",
    "        y_smooth = utils.exp_smooth(np.array(self.losses), exp_smooth_param)\n",
    "        if skip_edges:\n",
    "            y_smooth = y_smooth[10:-10]\n",
    "        f, ax = plt.subplots(figsize=(5, 5))\n",
    "        if xlog:\n",
    "            ax.set(yscale = 'log', xscale = 'log')\n",
    "        else:\n",
    "            ax.set(yscale = 'log')\n",
    "        if x is not None:\n",
    "            if skip_edges:\n",
    "                x = x[10:-10]\n",
    "            ax = plt.plot(x, y_smooth)\n",
    "        else:\n",
    "            ax = plt.plot(y_smooth)     \n",
    "            \n",
    "    def fit(self, lr, epochs):\n",
    "        \n",
    "        opt = optim.Adam(self.model.parameters(), lr=lr)\n",
    "        \n",
    "        for epoch in range(epochs):\n",
    "        \n",
    "            # Fit model to training data\n",
    "            self.model.train()\n",
    "            losses, nums = zip(*[loss_batch(xb, yb, self.model, self.loss_func, opt) \n",
    "                                 for xb,yb in tqdm(self.train_dl, leave = False,\n",
    "                                                  position = 0)])\n",
    "            train_loss = np.sum(np.multiply(losses,nums)) / np.sum(nums)\n",
    "            self.losses = self.losses+list(losses)\n",
    "            \n",
    "            if self.valid_dl != None:              \n",
    "                \n",
    "                self.model.eval()\n",
    "                with torch.no_grad():\n",
    "                    \n",
    "                    losses,nums = zip(*[loss_batch(xb, yb, self.model, self.loss_func)\n",
    "                                        for xb,yb in valid_dl])\n",
    "                    val_loss = np.sum(np.multiply(losses,nums)) / np.sum(nums)\n",
    "                    \n",
    "                    val_preds = self.predict(self.valid_dl)\n",
    "                    y_val = self.valid_dl.dataset.tensors[1]\n",
    "                    acc = utils.accuracy(val_preds, y_val)                    \n",
    "                    \n",
    "                print(f'Epoch {epoch}. Training loss: {train_loss}. ' +\n",
    "                      f'Validation loss: {val_loss}. Accuracy: {acc}')\n",
    "                \n",
    "            else:\n",
    "                print(f'Epoch {epoch}. Training loss: {train_loss}.')\n",
    "                        \n",
    "    def predict(self, dl):\n",
    "        self.model.eval()\n",
    "        with torch.no_grad():\n",
    "            res = [self.model(xb.cuda()).argmax(dim = -1).view(-1) for \n",
    "                   xb, _ in tqdm(dl, leave = False, position = 0)]\n",
    "        return torch.cat(res)"
   ]
  },
  {
   "cell_type": "code",
   "execution_count": null,
   "metadata": {},
   "outputs": [],
   "source": [
    "learn = Learner(model, loss_func, train_dl, valid_dl)"
   ]
  },
  {
   "cell_type": "code",
   "execution_count": null,
   "metadata": {},
   "outputs": [],
   "source": [
    "preds = learn.predict(valid_dl)\n",
    "utils.accuracy(preds, y_val)"
   ]
  },
  {
   "cell_type": "code",
   "execution_count": null,
   "metadata": {},
   "outputs": [],
   "source": [
    "lr = 1e-3"
   ]
  },
  {
   "cell_type": "code",
   "execution_count": null,
   "metadata": {},
   "outputs": [],
   "source": [
    "learn.fit(lr, 3)\n",
    "dill.dump(learn.model.state_dict(), open(PATH_TMP/'model0.pickle', mode = 'wb'))\n",
    "learn.plot_loss()"
   ]
  },
  {
   "cell_type": "code",
   "execution_count": null,
   "metadata": {},
   "outputs": [],
   "source": [
    "learn.fit(lr/1e2, 3)\n",
    "dill.dump(learn.model.state_dict(), open(PATH_TMP/'model1.pickle', mode = 'wb'))\n",
    "learn.plot_loss()"
   ]
  },
  {
   "cell_type": "code",
   "execution_count": null,
   "metadata": {},
   "outputs": [],
   "source": [
    "end = time.time()\n",
    "print(f'Time after training : {(end - start)/60} mins')"
   ]
  },
  {
   "cell_type": "markdown",
   "metadata": {},
   "source": [
    "## Predict Test Set"
   ]
  },
  {
   "cell_type": "code",
   "execution_count": null,
   "metadata": {},
   "outputs": [],
   "source": [
    "X_test = utils.numericalize(np.array(test['text']), word2idx)\n",
    "y_test = np.array([lang2idx[x] for x in test['label']])"
   ]
  },
  {
   "cell_type": "code",
   "execution_count": null,
   "metadata": {},
   "outputs": [],
   "source": [
    "X_test = torch.from_numpy(X_test).type(torch.int64)\n",
    "y_test = torch.from_numpy(y_test).type(torch.int64)\n",
    "\n",
    "test_dl = DataLoader(TensorDataset(X_test, y_test), batch_size=BS, shuffle = False)"
   ]
  },
  {
   "cell_type": "code",
   "execution_count": null,
   "metadata": {},
   "outputs": [],
   "source": [
    "preds = learn.predict(test_dl)\n",
    "utils.accuracy(preds, y_test)"
   ]
  },
  {
   "cell_type": "code",
   "execution_count": null,
   "metadata": {},
   "outputs": [],
   "source": [
    "test['pred'] = [idx2lang[x] for x in utils.conv2np(preds)]\n",
    "test['correct'] = (test['pred'] == test['label'])*1\n",
    "inc_total = len(test.index)-sum(test['correct'])\n",
    "print(f\"Total number of mispredicted: {inc_total}\")\n",
    "test.groupby(by = 'label')['correct'].agg('mean').sort_values()"
   ]
  },
  {
   "cell_type": "code",
   "execution_count": null,
   "metadata": {},
   "outputs": [],
   "source": [
    "def print_incorrect(i = None, lang = None):\n",
    "    \n",
    "    flag = (test['correct']==0)\n",
    "    if lang is not None:\n",
    "        flag = flag  & (test['label']==lang)\n",
    "    if i is not None:\n",
    "        ex = test[flag].iloc[i]\n",
    "    else:\n",
    "        ex = test[flag].sample(1).iloc[0]\n",
    "    print(f'class: {ex[\"label\"]}, ', end = \"\")\n",
    "    print(f'predicted: {ex[\"pred\"]}, ', end = \"\")\n",
    "    print(f'text: {ex[\"text\"]}, ', end = \"\")\n",
    "    print('\\n')"
   ]
  },
  {
   "cell_type": "code",
   "execution_count": null,
   "metadata": {},
   "outputs": [],
   "source": [
    "for i in range(inc_total): print_incorrect(i)"
   ]
  },
  {
   "cell_type": "code",
   "execution_count": null,
   "metadata": {},
   "outputs": [],
   "source": [
    "end = time.time()\n",
    "print(f'Total time : {(end - start)/60} mins')"
   ]
  }
 ],
 "metadata": {
  "kernelspec": {
   "display_name": "pytorch_env",
   "language": "python",
   "name": "pytorch_env"
  },
  "language_info": {
   "codemirror_mode": {
    "name": "ipython",
    "version": 3
   },
   "file_extension": ".py",
   "mimetype": "text/x-python",
   "name": "python",
   "nbconvert_exporter": "python",
   "pygments_lexer": "ipython3",
   "version": "3.7.0"
  }
 },
 "nbformat": 4,
 "nbformat_minor": 2
}
