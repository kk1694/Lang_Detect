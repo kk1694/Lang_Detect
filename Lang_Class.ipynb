{
 "cells": [
  {
   "cell_type": "markdown",
   "metadata": {},
   "source": [
    "# Language Classification"
   ]
  },
  {
   "cell_type": "markdown",
   "metadata": {},
   "source": [
    "## Overview\n",
    "\n",
    "My aim here is to build a language classifier for EU languages.\n",
    "\n",
    "Proposed Approach:\n",
    "1. Inspect test set\n",
    "1. Create dataset for training / validation\n",
    "1. Train / valid split\n",
    "1. Numericalize\n",
    "1. Create embeddings\n",
    "1. Build language classification model"
   ]
  },
  {
   "cell_type": "markdown",
   "metadata": {},
   "source": [
    "## Setup"
   ]
  },
  {
   "cell_type": "code",
   "execution_count": null,
   "metadata": {},
   "outputs": [],
   "source": [
    "from os import path\n",
    "from wheel.pep425tags import get_abbr_impl, get_impl_ver, get_abi_tag\n",
    "platform = '{}{}-{}'.format(get_abbr_impl(), get_impl_ver(), get_abi_tag())\n",
    "\n",
    "accelerator = 'cu80' if path.exists('/opt/bin/nvidia-smi') else 'cpu'\n",
    "\n",
    "!pip install -q http://download.pytorch.org/whl/{accelerator}/torch-0.4.0-{platform}-linux_x86_64.whl torchvision"
   ]
  },
  {
   "cell_type": "code",
   "execution_count": 1,
   "metadata": {},
   "outputs": [],
   "source": [
    "%matplotlib inline\n",
    "%load_ext autoreload\n",
    "%autoreload 2"
   ]
  },
  {
   "cell_type": "code",
   "execution_count": 163,
   "metadata": {},
   "outputs": [],
   "source": [
    "from pathlib import Path\n",
    "import pandas as pd\n",
    "import sys\n",
    "from tqdm import tqdm\n",
    "import re\n",
    "\n",
    "import matplotlib.pyplot as plt\n",
    "import seaborn as sns\n",
    "\n",
    "from sklearn.model_selection import train_test_split\n",
    "import numpy as np\n",
    "\n",
    "from collections import Counter\n",
    "from collections import defaultdict\n",
    "\n",
    "import torch\n",
    "import torch.nn as nn\n",
    "import torch.nn.functional as F\n",
    "from torch.utils.data import TensorDataset, DataLoader\n",
    "import torch.optim as optim"
   ]
  },
  {
   "cell_type": "code",
   "execution_count": 3,
   "metadata": {},
   "outputs": [],
   "source": [
    "np.random.seed(1)"
   ]
  },
  {
   "cell_type": "code",
   "execution_count": 4,
   "metadata": {},
   "outputs": [],
   "source": [
    "def word_count(x): return len(x.split())\n",
    "def sentence_count(x): return len(x.split('<eos>')) - 1"
   ]
  },
  {
   "cell_type": "code",
   "execution_count": 5,
   "metadata": {},
   "outputs": [],
   "source": [
    "def preprocess(txt):\n",
    "    \n",
    "    '''Generic preprocessing: remove uninformative text, replace numbers,\n",
    "    create end of sentence tokan, replace punctuation, collapse white space.'''\n",
    "    \n",
    "    punct = '!\"#$%&\\'()*+,-./:;=?@[\\\\]^_`{|}~'\n",
    "\n",
    "    # Remove stuff inside brackets: <>\n",
    "    # Brackets contain uninformative items for our classifier. \n",
    "    # Example: '<CHAPTER ID=\"008\">\\nCorrections to ...' \n",
    "    txt = re.sub('\\<.*?\\>', '', txt, count = 0)\n",
    "\n",
    "    # Replace numbers with special character\n",
    "    txt = re.sub('[0-9]+', ' <num> ', txt, count = 0)\n",
    "    txt = txt.replace(' <num> .', ' <num> ')\n",
    "\n",
    "    # Create special character for sentence end\n",
    "    txt = txt.replace('.', ' <eos> ')\n",
    "    txt = txt.replace('?', ' <eos> ')\n",
    "    txt = txt.replace('!', ' <eos> ')\n",
    "    txt = txt.replace('\\n', ' <eos> ')\n",
    "    txt = txt + ' <eos> '\n",
    "    txt = re.sub('( <eos> )+', ' <eos> ', txt)\n",
    "\n",
    "    # Replace all punctuation with special character\n",
    "    txt = txt.translate(str.maketrans(punct, '_'*len(punct)))\n",
    "    txt = txt.replace('_', ' <punct> ')\n",
    "\n",
    "    # Collapse neighboring spaces\n",
    "    txt = re.sub('[ ]+', ' ', txt, count = 0)\n",
    "    \n",
    "    return txt.strip()"
   ]
  },
  {
   "cell_type": "markdown",
   "metadata": {},
   "source": [
    "## Settings"
   ]
  },
  {
   "cell_type": "code",
   "execution_count": 208,
   "metadata": {},
   "outputs": [],
   "source": [
    "PATH = Path('train_sampl')\n",
    "TEST_FN = Path('europarl.test')\n",
    "PATH_TMP = Path('tmp')\n",
    "\n",
    "MIN_FREQ = 20\n",
    "\n",
    "BS = 64\n",
    "\n",
    "EMB_SZ = 1000\n",
    "\n",
    "LANGS = list(map(lambda x: x.name, list(PATH.iterdir())))"
   ]
  },
  {
   "cell_type": "code",
   "execution_count": null,
   "metadata": {},
   "outputs": [],
   "source": [
    "PATH_TMP.mkdir(parents=True, exist_ok=True)"
   ]
  },
  {
   "cell_type": "markdown",
   "metadata": {},
   "source": [
    "## Clarify Goal"
   ]
  },
  {
   "cell_type": "code",
   "execution_count": 7,
   "metadata": {},
   "outputs": [],
   "source": [
    "test = pd.read_csv(TEST_FN, sep = '\\t', lineterminator='\\n', header=None)\n",
    "test.rename({0:'label', 1:'text'}, axis = 1, inplace=True)\n",
    "test['text'] = test['text'].apply(preprocess)"
   ]
  },
  {
   "cell_type": "code",
   "execution_count": 8,
   "metadata": {},
   "outputs": [
    {
     "data": {
      "text/plain": [
       "'I would like to thank my fellow Members for voting in favour of this report <eos>'"
      ]
     },
     "execution_count": 8,
     "metadata": {},
     "output_type": "execute_result"
    }
   ],
   "source": [
    "test[test['label']=='en'].iloc[345][\"text\"]"
   ]
  },
  {
   "cell_type": "code",
   "execution_count": 9,
   "metadata": {
    "scrolled": true
   },
   "outputs": [
    {
     "data": {
      "text/plain": [
       "'Dieses Abkommen ist ein Vorbild für ähnliche Abkommen dieser Art <eos> Das ist eine Art von Abkommen <punct> die die Welt nicht ärmer machen wird <punct> die den Menschen nicht die von einigen durchaus befürworteten <punct> Freuden <punct> der nordkoreanischen Wirtschaft bringen wird <punct> sondern die den Wohlstand der Welt fördern und dazu beitragen dürfte <punct> dass wir unsere Umwelt besser schützen und für mehr politische Stabilität als ohne ein solches Abkommen sorgen werden <eos>'"
      ]
     },
     "execution_count": 9,
     "metadata": {},
     "output_type": "execute_result"
    }
   ],
   "source": [
    "test[test['label']=='de'].iloc[345][\"text\"]"
   ]
  },
  {
   "cell_type": "code",
   "execution_count": 10,
   "metadata": {
    "scrolled": true
   },
   "outputs": [
    {
     "data": {
      "text/html": [
       "<div>\n",
       "<style scoped>\n",
       "    .dataframe tbody tr th:only-of-type {\n",
       "        vertical-align: middle;\n",
       "    }\n",
       "\n",
       "    .dataframe tbody tr th {\n",
       "        vertical-align: top;\n",
       "    }\n",
       "\n",
       "    .dataframe thead th {\n",
       "        text-align: right;\n",
       "    }\n",
       "</style>\n",
       "<table border=\"1\" class=\"dataframe\">\n",
       "  <thead>\n",
       "    <tr style=\"text-align: right;\">\n",
       "      <th></th>\n",
       "      <th>sentence_count</th>\n",
       "      <th>word_count</th>\n",
       "      <th>len</th>\n",
       "    </tr>\n",
       "  </thead>\n",
       "  <tbody>\n",
       "    <tr>\n",
       "      <th>count</th>\n",
       "      <td>20828.000000</td>\n",
       "      <td>20828.000000</td>\n",
       "      <td>20828.000000</td>\n",
       "    </tr>\n",
       "    <tr>\n",
       "      <th>mean</th>\n",
       "      <td>1.113837</td>\n",
       "      <td>26.071922</td>\n",
       "      <td>175.205541</td>\n",
       "    </tr>\n",
       "    <tr>\n",
       "      <th>std</th>\n",
       "      <td>0.851456</td>\n",
       "      <td>25.298060</td>\n",
       "      <td>167.062078</td>\n",
       "    </tr>\n",
       "    <tr>\n",
       "      <th>min</th>\n",
       "      <td>1.000000</td>\n",
       "      <td>3.000000</td>\n",
       "      <td>22.000000</td>\n",
       "    </tr>\n",
       "    <tr>\n",
       "      <th>25%</th>\n",
       "      <td>1.000000</td>\n",
       "      <td>15.000000</td>\n",
       "      <td>99.000000</td>\n",
       "    </tr>\n",
       "    <tr>\n",
       "      <th>50%</th>\n",
       "      <td>1.000000</td>\n",
       "      <td>23.000000</td>\n",
       "      <td>154.000000</td>\n",
       "    </tr>\n",
       "    <tr>\n",
       "      <th>75%</th>\n",
       "      <td>1.000000</td>\n",
       "      <td>33.000000</td>\n",
       "      <td>224.000000</td>\n",
       "    </tr>\n",
       "    <tr>\n",
       "      <th>max</th>\n",
       "      <td>77.000000</td>\n",
       "      <td>2184.000000</td>\n",
       "      <td>14069.000000</td>\n",
       "    </tr>\n",
       "  </tbody>\n",
       "</table>\n",
       "</div>"
      ],
      "text/plain": [
       "       sentence_count    word_count           len\n",
       "count    20828.000000  20828.000000  20828.000000\n",
       "mean         1.113837     26.071922    175.205541\n",
       "std          0.851456     25.298060    167.062078\n",
       "min          1.000000      3.000000     22.000000\n",
       "25%          1.000000     15.000000     99.000000\n",
       "50%          1.000000     23.000000    154.000000\n",
       "75%          1.000000     33.000000    224.000000\n",
       "max         77.000000   2184.000000  14069.000000"
      ]
     },
     "execution_count": 10,
     "metadata": {},
     "output_type": "execute_result"
    }
   ],
   "source": [
    "test['text'].apply([sentence_count, word_count, len]).describe()"
   ]
  },
  {
   "cell_type": "markdown",
   "metadata": {},
   "source": [
    "## Preprocess Dataset"
   ]
  },
  {
   "cell_type": "code",
   "execution_count": 11,
   "metadata": {},
   "outputs": [],
   "source": [
    "def concat_str(lang):\n",
    "    '''Helper function, not self-contained!'''\n",
    "    res = ''\n",
    "    fns = list((PATH/lang).glob('*.txt'))\n",
    "    for fn in fns:\n",
    "        res = res + fn.read_text()\n",
    "    return res"
   ]
  },
  {
   "cell_type": "code",
   "execution_count": 12,
   "metadata": {},
   "outputs": [],
   "source": [
    "res = concat_str('en')"
   ]
  },
  {
   "cell_type": "code",
   "execution_count": 13,
   "metadata": {},
   "outputs": [
    {
     "data": {
      "text/plain": [
       "'<CHAPTER ID=\"008\">\\nCorrections to votes and voting intentions: see Minutes\\n<CHAPTER ID=\"009\">\\nWelcome\\n<SPEAKER ID=\"257\" NAME=\"President\">\\nLadies and gentlemen, I should like to welcome you to the afternoon sitting. The sitting is resumed and is the last sitting before the Christmas break and the New Year. I would like to take this opportunity to welcome the Executive Committee of the German War Graves Commission (Volksbund Deutsche Kriegsgräberfürsorge) from Baden-Württemberg under its chair, Mr'"
      ]
     },
     "execution_count": 13,
     "metadata": {},
     "output_type": "execute_result"
    }
   ],
   "source": [
    "res[:500]"
   ]
  },
  {
   "cell_type": "code",
   "execution_count": 14,
   "metadata": {},
   "outputs": [],
   "source": [
    "def txt2list(txt, min_chars = 10):\n",
    "    \n",
    "    '''Preprocess text, and convert to list of sentences.'''\n",
    "    \n",
    "    res = preprocess(txt)\n",
    "    res = res.strip().split('<eos>')\n",
    "    \n",
    "    # We also want to remove items consting only of whitespace and numbers\n",
    "    res = list(map(lambda x: x.strip(), res))\n",
    "    \n",
    "    # Note for the minimum size: ' <eos> ' is already 7 long\n",
    "    res = list(filter(lambda x: x != '' and x != '<num>' and len(x) >= min_chars, res))\n",
    "    res = list(map(lambda x: x + ' <eos>', res))\n",
    "    \n",
    "    return res"
   ]
  },
  {
   "cell_type": "code",
   "execution_count": 15,
   "metadata": {},
   "outputs": [],
   "source": [
    "res = txt2list(res)"
   ]
  },
  {
   "cell_type": "code",
   "execution_count": 16,
   "metadata": {},
   "outputs": [
    {
     "data": {
      "text/plain": [
       "['Corrections to votes and voting intentions <punct> see Minutes <eos>',\n",
       " 'Ladies and gentlemen <punct> I should like to welcome you to the afternoon sitting <eos>',\n",
       " 'The sitting is resumed and is the last sitting before the Christmas break and the New Year <eos>',\n",
       " 'I would like to take this opportunity to welcome the Executive Committee of the German War Graves Commission <punct> Volksbund Deutsche Kriegsgräberfürsorge <punct> from Baden <punct> Württemberg under its chair <punct> Mr Nothelfer <eos>',\n",
       " 'Based in Baden <punct> Württemberg <punct> the Commission tends the graves of <num> <num> victims of war and tyranny in Baden <punct> Württemberg alone <eos>']"
      ]
     },
     "execution_count": 16,
     "metadata": {},
     "output_type": "execute_result"
    }
   ],
   "source": [
    "res[:5]"
   ]
  },
  {
   "cell_type": "code",
   "execution_count": 17,
   "metadata": {},
   "outputs": [],
   "source": [
    "def concat_random(txt, p = 0.02):\n",
    "    \n",
    "    '''At random locations (probability p), concatenate two neighboring sentences.'''\n",
    "    \n",
    "    idxs = np.random.choice(range(len(txt) - 1), size = int(p*len(txt)), replace=False)\n",
    "    \n",
    "    for i in idxs:\n",
    "        txt[i + 1] = txt[i] + ' ' + txt[i + 1]\n",
    "        \n",
    "    res = [x for i,x in enumerate(txt) if i not in idxs] \n",
    "    \n",
    "    return res"
   ]
  },
  {
   "cell_type": "code",
   "execution_count": 18,
   "metadata": {},
   "outputs": [
    {
     "name": "stdout",
     "output_type": "stream",
     "text": [
      " nl  lv  es  el  cs  sl  it  fr  pt  fi  lt  da  et  de  ro  bg  pl  sv  en  hu  sk "
     ]
    }
   ],
   "source": [
    "dfs = []\n",
    "for lang in LANGS:\n",
    "    print(' '+lang+' ', end = \"\")\n",
    "    txt = concat_random(txt2list(concat_str(lang)))\n",
    "    temp_df = pd.DataFrame({'text':txt})\n",
    "    temp_df['label'] = lang\n",
    "    dfs.append(temp_df)\n",
    "df = pd.concat(dfs)[['label', 'text']]\n",
    "df.reset_index(inplace=True, drop = True)"
   ]
  },
  {
   "cell_type": "code",
   "execution_count": 19,
   "metadata": {},
   "outputs": [
    {
     "data": {
      "text/html": [
       "<div>\n",
       "<style scoped>\n",
       "    .dataframe tbody tr th:only-of-type {\n",
       "        vertical-align: middle;\n",
       "    }\n",
       "\n",
       "    .dataframe tbody tr th {\n",
       "        vertical-align: top;\n",
       "    }\n",
       "\n",
       "    .dataframe thead th {\n",
       "        text-align: right;\n",
       "    }\n",
       "</style>\n",
       "<table border=\"1\" class=\"dataframe\">\n",
       "  <thead>\n",
       "    <tr style=\"text-align: right;\">\n",
       "      <th></th>\n",
       "      <th>label</th>\n",
       "      <th>text</th>\n",
       "    </tr>\n",
       "  </thead>\n",
       "  <tbody>\n",
       "    <tr>\n",
       "      <th>0</th>\n",
       "      <td>nl</td>\n",
       "      <td>Stemmingen &lt;eos&gt;</td>\n",
       "    </tr>\n",
       "    <tr>\n",
       "      <th>1</th>\n",
       "      <td>nl</td>\n",
       "      <td>Kolejnym punktem porządku jest głosowanie &lt;eos&gt;</td>\n",
       "    </tr>\n",
       "    <tr>\n",
       "      <th>2</th>\n",
       "      <td>nl</td>\n",
       "      <td>&lt;punct&gt; Wyniki i inne szczegóły głosowania &lt;pu...</td>\n",
       "    </tr>\n",
       "    <tr>\n",
       "      <th>3</th>\n",
       "      <td>nl</td>\n",
       "      <td>Europese betalingsbevelprocedure &lt;punct&gt; debat...</td>\n",
       "    </tr>\n",
       "    <tr>\n",
       "      <th>4</th>\n",
       "      <td>nl</td>\n",
       "      <td>Aan de orde is de aanbeveling voor de tweede l...</td>\n",
       "    </tr>\n",
       "  </tbody>\n",
       "</table>\n",
       "</div>"
      ],
      "text/plain": [
       "  label                                               text\n",
       "0    nl                                   Stemmingen <eos>\n",
       "1    nl    Kolejnym punktem porządku jest głosowanie <eos>\n",
       "2    nl  <punct> Wyniki i inne szczegóły głosowania <pu...\n",
       "3    nl  Europese betalingsbevelprocedure <punct> debat...\n",
       "4    nl  Aan de orde is de aanbeveling voor de tweede l..."
      ]
     },
     "execution_count": 19,
     "metadata": {},
     "output_type": "execute_result"
    }
   ],
   "source": [
    "df.head()"
   ]
  },
  {
   "cell_type": "code",
   "execution_count": 20,
   "metadata": {
    "scrolled": true
   },
   "outputs": [
    {
     "data": {
      "text/html": [
       "<div>\n",
       "<style scoped>\n",
       "    .dataframe tbody tr th:only-of-type {\n",
       "        vertical-align: middle;\n",
       "    }\n",
       "\n",
       "    .dataframe tbody tr th {\n",
       "        vertical-align: top;\n",
       "    }\n",
       "\n",
       "    .dataframe thead th {\n",
       "        text-align: right;\n",
       "    }\n",
       "</style>\n",
       "<table border=\"1\" class=\"dataframe\">\n",
       "  <thead>\n",
       "    <tr style=\"text-align: right;\">\n",
       "      <th></th>\n",
       "      <th>sentence_count</th>\n",
       "      <th>word_count</th>\n",
       "      <th>len</th>\n",
       "    </tr>\n",
       "  </thead>\n",
       "  <tbody>\n",
       "    <tr>\n",
       "      <th>count</th>\n",
       "      <td>295313.000000</td>\n",
       "      <td>295313.000000</td>\n",
       "      <td>295313.000000</td>\n",
       "    </tr>\n",
       "    <tr>\n",
       "      <th>mean</th>\n",
       "      <td>1.020155</td>\n",
       "      <td>25.264164</td>\n",
       "      <td>167.090809</td>\n",
       "    </tr>\n",
       "    <tr>\n",
       "      <th>std</th>\n",
       "      <td>0.141802</td>\n",
       "      <td>16.339356</td>\n",
       "      <td>108.434434</td>\n",
       "    </tr>\n",
       "    <tr>\n",
       "      <th>min</th>\n",
       "      <td>1.000000</td>\n",
       "      <td>2.000000</td>\n",
       "      <td>16.000000</td>\n",
       "    </tr>\n",
       "    <tr>\n",
       "      <th>25%</th>\n",
       "      <td>1.000000</td>\n",
       "      <td>14.000000</td>\n",
       "      <td>90.000000</td>\n",
       "    </tr>\n",
       "    <tr>\n",
       "      <th>50%</th>\n",
       "      <td>1.000000</td>\n",
       "      <td>22.000000</td>\n",
       "      <td>146.000000</td>\n",
       "    </tr>\n",
       "    <tr>\n",
       "      <th>75%</th>\n",
       "      <td>1.000000</td>\n",
       "      <td>33.000000</td>\n",
       "      <td>219.000000</td>\n",
       "    </tr>\n",
       "    <tr>\n",
       "      <th>max</th>\n",
       "      <td>4.000000</td>\n",
       "      <td>406.000000</td>\n",
       "      <td>2839.000000</td>\n",
       "    </tr>\n",
       "  </tbody>\n",
       "</table>\n",
       "</div>"
      ],
      "text/plain": [
       "       sentence_count     word_count            len\n",
       "count   295313.000000  295313.000000  295313.000000\n",
       "mean         1.020155      25.264164     167.090809\n",
       "std          0.141802      16.339356     108.434434\n",
       "min          1.000000       2.000000      16.000000\n",
       "25%          1.000000      14.000000      90.000000\n",
       "50%          1.000000      22.000000     146.000000\n",
       "75%          1.000000      33.000000     219.000000\n",
       "max          4.000000     406.000000    2839.000000"
      ]
     },
     "execution_count": 20,
     "metadata": {},
     "output_type": "execute_result"
    }
   ],
   "source": [
    "df['text'].apply([sentence_count, word_count, len]).describe()"
   ]
  },
  {
   "cell_type": "markdown",
   "metadata": {},
   "source": [
    "## Train Test Split"
   ]
  },
  {
   "cell_type": "code",
   "execution_count": 21,
   "metadata": {},
   "outputs": [
    {
     "data": {
      "text/plain": [
       "295313"
      ]
     },
     "execution_count": 21,
     "metadata": {},
     "output_type": "execute_result"
    }
   ],
   "source": [
    "len(df)"
   ]
  },
  {
   "cell_type": "code",
   "execution_count": 22,
   "metadata": {},
   "outputs": [],
   "source": [
    "X_train, X_val, y_train, y_val = train_test_split(np.array(df['text']), np.array(df['label']), \n",
    "                                                  test_size=0.01, random_state=42)"
   ]
  },
  {
   "cell_type": "code",
   "execution_count": 23,
   "metadata": {
    "scrolled": true
   },
   "outputs": [
    {
     "data": {
      "text/plain": [
       "array(['nl', 'fi', 'it', ..., 'pt', 'fi', 'fr'], dtype=object)"
      ]
     },
     "execution_count": 23,
     "metadata": {},
     "output_type": "execute_result"
    }
   ],
   "source": [
    "y_train"
   ]
  },
  {
   "cell_type": "markdown",
   "metadata": {},
   "source": [
    "## Numericalize"
   ]
  },
  {
   "cell_type": "code",
   "execution_count": 24,
   "metadata": {},
   "outputs": [
    {
     "data": {
      "text/plain": [
       "[('<punct>', 568131),\n",
       " ('<eos>', 298223),\n",
       " ('de', 146008),\n",
       " ('a', 68698),\n",
       " ('<num>', 59300),\n",
       " ('the', 56301),\n",
       " ('la', 51781),\n",
       " ('en', 51554),\n",
       " ('in', 49916),\n",
       " ('que', 40145)]"
      ]
     },
     "execution_count": 24,
     "metadata": {},
     "output_type": "execute_result"
    }
   ],
   "source": [
    "words = Counter()\n",
    "for row in X_train: words.update(row.split())\n",
    "words.most_common(10)"
   ]
  },
  {
   "cell_type": "code",
   "execution_count": 26,
   "metadata": {},
   "outputs": [],
   "source": [
    "words = {k:v for k, v in words.items() if v >= MIN_FREQ}\n",
    "words = sorted(words, key=words.get, reverse=True)\n",
    "words = ['<unk>','<pad>'] + words"
   ]
  },
  {
   "cell_type": "code",
   "execution_count": 36,
   "metadata": {},
   "outputs": [],
   "source": [
    "vocab_size = len(words)"
   ]
  },
  {
   "cell_type": "code",
   "execution_count": 28,
   "metadata": {},
   "outputs": [],
   "source": [
    "word2idx = defaultdict(lambda: 0, {o:i for i,o in enumerate(words)})\n",
    "idx2word = defaultdict(lambda: '<unk>', {i:o for i,o in enumerate(words)})"
   ]
  },
  {
   "cell_type": "code",
   "execution_count": 31,
   "metadata": {},
   "outputs": [
    {
     "name": "stdout",
     "output_type": "stream",
     "text": [
      "[221, 2177, 4, 770, 49, 30, 632, 32635, 74, 25, 1645, 15, 1853, 23634, 9, 25977, 7652, 235, 148, 2, 264, 223, 2230, 112, 25, 3914, 82, 4, 0, 127, 68, 15, 4417, 148, 14635, 3]\n"
     ]
    }
   ],
   "source": [
    "print([word2idx[w] for w in X_train[0].split()])"
   ]
  },
  {
   "cell_type": "code",
   "execution_count": 32,
   "metadata": {},
   "outputs": [],
   "source": [
    "def numericalize(X, word2idx, maxlen = 50):\n",
    "    m = X.shape[0]\n",
    "    res = np.ones((m, maxlen))\n",
    "    for row in range(m):\n",
    "        temp = np.array([word2idx[w] for w in X[row].split()])\n",
    "        n = min(len(temp), maxlen)\n",
    "        res[row, :n] = temp[:n]\n",
    "    return res.astype(np.int32)"
   ]
  },
  {
   "cell_type": "code",
   "execution_count": 33,
   "metadata": {},
   "outputs": [],
   "source": [
    "X_train = numericalize(X_train, word2idx)\n",
    "X_val = numericalize(X_val, word2idx)"
   ]
  },
  {
   "cell_type": "code",
   "execution_count": 34,
   "metadata": {},
   "outputs": [],
   "source": [
    "def de_numericalize(X, idx2word):\n",
    "    res = []\n",
    "    for row in range(X.shape[0]):\n",
    "        res.append(' '.join([idx2word[i] for i in X[row][X[row] != 1]]))\n",
    "    return res"
   ]
  },
  {
   "cell_type": "code",
   "execution_count": 35,
   "metadata": {},
   "outputs": [
    {
     "data": {
      "text/plain": [
       "['Ik deel de mening dat er nationale strategieën voor het proces van Lissabon uitgewerkt en consequent uitgevoerd moeten worden <punct> maar deze mogen met het oog op de <unk> niet los van elkaar worden ontwikkeld <eos>',\n",
       " '<unk> kilpailun <unk> vaatimukset <unk> artiklan taloudellisen <unk> ja oikeudellisen <unk> <eos>',\n",
       " 'Per questa ragione mi <unk> che il Parlamento possa nuovamente lanciare un appello per l <punct> <unk> di una forza <unk> <eos>']"
      ]
     },
     "execution_count": 35,
     "metadata": {},
     "output_type": "execute_result"
    }
   ],
   "source": [
    "de_numericalize(X_train[:3], idx2word)"
   ]
  },
  {
   "cell_type": "markdown",
   "metadata": {},
   "source": [
    "## Create Embeddings"
   ]
  },
  {
   "cell_type": "code",
   "execution_count": 37,
   "metadata": {},
   "outputs": [],
   "source": [
    "m, n = X_train.shape"
   ]
  },
  {
   "cell_type": "code",
   "execution_count": 38,
   "metadata": {},
   "outputs": [],
   "source": [
    "idx_freq = Counter()\n",
    "for row in X_train: idx_freq.update(row)\n",
    "idx_freq = np.array([idx_freq[i] for i in range(len(idx_freq))]).astype(np.int32)"
   ]
  },
  {
   "cell_type": "code",
   "execution_count": 39,
   "metadata": {},
   "outputs": [],
   "source": [
    "def subsamp_disc_prob(idx_freq):\n",
    "    '''Creates an index of discard probabilities for the skip-gram subsampling.'''\n",
    "    const = 1e-5  # From Mikolov et al 2013\n",
    "    rel_freq = idx_freq / (np.sum(idx_freq) - idx_freq[1])\n",
    "    rel_freq[1] = 1  # We treat padding separately, otherwise it skews freq distribution\n",
    "    disc_prob = 1 - np.sqrt(np.minimum(const / rel_freq, 1))\n",
    "    return disc_prob"
   ]
  },
  {
   "cell_type": "code",
   "execution_count": 40,
   "metadata": {},
   "outputs": [
    {
     "data": {
      "text/plain": [
       "[('the', 0.9635571556933543),\n",
       " ('in', 0.9614200959681023),\n",
       " ('of', 0.9493247551848537),\n",
       " ('president', 0.42553547891857724),\n",
       " ('approval', 0.02309071211460123),\n",
       " ('origin', 0.0)]"
      ]
     },
     "execution_count": 40,
     "metadata": {},
     "output_type": "execute_result"
    }
   ],
   "source": [
    "[(x, subsamp_disc_prob(idx_freq)[word2idx[x]]) for x in ['the', 'in', 'of', 'president', 'approval', 'origin']]"
   ]
  },
  {
   "cell_type": "code",
   "execution_count": 41,
   "metadata": {},
   "outputs": [],
   "source": [
    "def negsamp_prob(idx_freq):\n",
    "    const = 3/4  # From Mikolov et al 2013\n",
    "    rel_freq = idx_freq / (np.sum(idx_freq))\n",
    "    rel_freq[1] = 0.01  # Manually assign 1% prob to padding\n",
    "    rel_freq = rel_freq ** const\n",
    "    rel_freq = rel_freq / np.sum(rel_freq)\n",
    "    return rel_freq"
   ]
  },
  {
   "cell_type": "code",
   "execution_count": 256,
   "metadata": {},
   "outputs": [],
   "source": [
    "def skipgram_data(X, idx_freq, k = 5, as_tensor = True):\n",
    "    \n",
    "    m, n = X.shape\n",
    "\n",
    "    # Create correct context-target pairs\n",
    "    context_idx = np.random.randint(0, n, size = m)\n",
    "    target_idx = np.random.randint(1, k, size = m)\n",
    "    target_idx = (np.random.randint(0, 2, size = m)*2-1)*target_idx + context_idx\n",
    "    target_idx = np.minimum(np.maximum(target_idx, 0), n-1)\n",
    "    context = X[range(m), context_idx]\n",
    "    target = X[range(m), target_idx]\n",
    "    \n",
    "    # Discard frequent words\n",
    "    disc_prob = subsamp_disc_prob(idx_freq)\n",
    "    keep_mask = (np.random.rand(m) > disc_prob[context])\n",
    "    context = context[keep_mask]\n",
    "    target = target[keep_mask]\n",
    "    \n",
    "    correct_num, fake_num, total  = (len(context), len(context)*5, len(context)*6)\n",
    "\n",
    "    # Create incorrect pairs\n",
    "    neg_samp_p = negsamp_prob(idx_freq)\n",
    "    fake_target = np.random.choice(len(idx_freq), fake_num, p=neg_samp_p)\n",
    "    fake_context = np.repeat(context, k)\n",
    "    \n",
    "    # Concatenate all\n",
    "    context = np.concatenate((context, fake_context)).reshape((total, 1))\n",
    "    target = np.concatenate((target, fake_target)).reshape((total, 1))\n",
    "    X_res = np.concatenate((context, target), axis = 1)\n",
    "    \n",
    "    # Classification target\n",
    "    y = np.concatenate((np.ones(correct_num), np.zeros(fake_num)))\n",
    "\n",
    "    # Shuffle data\n",
    "    shufl = np.random.permutation(total)\n",
    "    X_res, y = (X_res[shufl], y[shufl])\n",
    "    \n",
    "    if as_tensor:   # Convert to pytorch tensor\n",
    "        X_res = torch.from_numpy(X_res).type(torch.int64)\n",
    "        y = torch.from_numpy(y).type(torch.float32)\n",
    "\n",
    "    return (X_res, y)"
   ]
  },
  {
   "cell_type": "code",
   "execution_count": 264,
   "metadata": {},
   "outputs": [],
   "source": [
    "X_skip, y_skip = skipgram_data(X_train, idx_freq)"
   ]
  },
  {
   "cell_type": "code",
   "execution_count": 152,
   "metadata": {},
   "outputs": [],
   "source": [
    "skip_dl = DataLoader(TensorDataset(X_skip, y_skip), batch_size=BS)"
   ]
  },
  {
   "cell_type": "code",
   "execution_count": 141,
   "metadata": {},
   "outputs": [],
   "source": [
    "class skip_model(nn.Module):\n",
    "    def __init__(self, emb_sz = EMB_SZ, vocab_size = vocab_size):\n",
    "        super().__init__()\n",
    "        self.emb = nn.Embedding(vocab_size, emb_sz)\n",
    "        self.target_emb = nn.Embedding(vocab_size, emb_sz)\n",
    "        self.emb.weight.data.uniform_(-0.05, 0.05)\n",
    "        self.target_emb.weight.data.uniform_(-0.05, 0.05)\n",
    "        \n",
    "    def forward(self, x):\n",
    "        context, target = x[:, 0], x[:, 1]\n",
    "        context, target = self.emb(context), self.target_emb(target)\n",
    "        res = (context * target).sum(1)\n",
    "        res = torch.sigmoid(res)\n",
    "        return res.squeeze()"
   ]
  },
  {
   "cell_type": "code",
   "execution_count": 142,
   "metadata": {},
   "outputs": [],
   "source": [
    "model = skip_model()"
   ]
  },
  {
   "cell_type": "code",
   "execution_count": 161,
   "metadata": {},
   "outputs": [],
   "source": [
    "loss_func = nn.BCELoss()  # Binary cross entropy loss"
   ]
  },
  {
   "cell_type": "code",
   "execution_count": null,
   "metadata": {},
   "outputs": [],
   "source": [
    "def loss_batch(model, loss_func, xb, yb, opt=None):\n",
    "    '''https://github.com/fastai/fastai_v1/blob/master/dev_nb/001a_nn_basics.ipynb'''\n",
    "    # Note: changed this by adding yb.view(-1) to match dimensions\n",
    "    loss = loss_func(model(xb), yb.view(-1))\n",
    "\n",
    "    if opt is not None:\n",
    "        loss.backward()\n",
    "        opt.step()\n",
    "        opt.zero_grad()\n",
    "        \n",
    "    return loss.item(), len(xb)"
   ]
  },
  {
   "cell_type": "code",
   "execution_count": 502,
   "metadata": {},
   "outputs": [],
   "source": [
    "def loss_batch(xb, yb, model, loss_func, opt):\n",
    "    '''https://github.com/fastai/fastai_v1/blob/master/dev_nb/001a_nn_basics.ipynb'''\n",
    "    # Note: changed this by adding yb.view(-1) to match dimensions\n",
    "\n",
    "    loss = loss_func(model(xb), yb.view(-1))\n",
    "\n",
    "    if opt is not None:\n",
    "        loss.backward()\n",
    "        opt.step()\n",
    "        opt.zero_grad()\n",
    "\n",
    "    return loss.item(), len(xb)"
   ]
  },
  {
   "cell_type": "code",
   "execution_count": 520,
   "metadata": {},
   "outputs": [],
   "source": [
    "class Learner(object):\n",
    "    \n",
    "    def __init__(self, model, loss_func, train_dl = None, valid_dl = None):\n",
    "        self.model = model\n",
    "        self.loss_func = loss_func\n",
    "        self.train_dl = train_dl\n",
    "        self.valid_dl = valid_dl\n",
    "        self.losses = []\n",
    "    \n",
    "    def lr_find(self, start = 1e-5, return_losses = False, exp_smooth = True):\n",
    "        lr = start; lrs = []; losses = []\n",
    "        self.model.train()\n",
    "        i = 0\n",
    "        for xb,yb in tqdm(self.train_dl, position=0):\n",
    "            opt = optim.SGD(self.model.parameters(), lr=lr, momentum=0.9)\n",
    "            l = self.loss_func(self.model(xb), yb.view(-1))\n",
    "            l.backward(); opt.step(); opt.zero_grad()\n",
    "            if exp_smooth or i ==0:\n",
    "                loss = l.detach().numpy()\n",
    "            else:\n",
    "                loss = 0.9*loss + l.detach().numpy()            \n",
    "            lrs.append(lr), losses.append(loss)\n",
    "            if i > 10 and loss > 5*np.mean(losses[:i]):\n",
    "                break\n",
    "            if lr > 1000:\n",
    "                break\n",
    "            lr = lr*1.05\n",
    "            i += 1        \n",
    "        f, ax = plt.subplots(figsize=(5, 5))\n",
    "        ax.set(yscale = 'log', xscale = 'log')\n",
    "        ax = plt.plot(lrs, losses)\n",
    "        self.losses = losses\n",
    "        if return_losses: return (lrs, losses)\n",
    "        \n",
    "    def plot_loss(self):\n",
    "        f, ax = plt.subplots(figsize=(5, 5))\n",
    "        ax.set(yscale = 'log')\n",
    "        ax = plt.plot(self.losses)\n",
    "            \n",
    "    def fit(self, lr, epochs, callOn_epoch_start = None):\n",
    "        \n",
    "        self.opt = optim.SGD(self.model.parameters(), lr=lr, momentum=0.9)\n",
    "        loss_list = []\n",
    "        \n",
    "        for epoch in range(epochs):\n",
    "            \n",
    "            if callOn_epoch_start:\n",
    "                callOn_epoch_start()\n",
    "        \n",
    "            # Fit model to training data\n",
    "            self.model.train()\n",
    "            losses, nums = zip(*[loss_batch(xb, yb, self.model, self.loss_func, self.opt) \n",
    "                                 for xb,yb in tqdm(self.train_dl, position=0)])\n",
    "            train_loss = np.sum(np.multiply(losses,nums)) / np.sum(nums)\n",
    "            loss_list = loss_list+list(losses)\n",
    "\n",
    "            # Calculate loss on validation set\n",
    "            if self.valid_dl != None:\n",
    "                model.eval()\n",
    "                with torch.no_grad():\n",
    "                    losses,nums = zip(*[loss_batch(model, loss_func, xb, yb)\n",
    "                                        for xb,yb in valid_dl])\n",
    "                val_loss = np.sum(np.multiply(losses,nums)) / np.sum(nums)\n",
    "            else:\n",
    "                val_loss = 'N/A'\n",
    "                \n",
    "            print(f'Epoch {epoch}. Training loss: {train_loss}. Validation loss: {val_loss}.')\n",
    "        self.losses = loss_list\n",
    "            \n",
    "class skipgram_Learner(Learner):\n",
    "    def update_train(self):\n",
    "        X_skip, y_skip = skipgram_data(X_train, idx_freq)\n",
    "        self.train_dl = DataLoader(TensorDataset(X_skip, y_skip), batch_size=BS)\n",
    "        \n",
    "    def fit(self, lr, epochs): \n",
    "        super().fit(lr, epochs, callOn_epoch_start=self.update_train)"
   ]
  },
  {
   "cell_type": "code",
   "execution_count": 521,
   "metadata": {},
   "outputs": [],
   "source": [
    "learn = skipgram_Learner(model, loss_func, skip_dl)"
   ]
  },
  {
   "cell_type": "code",
   "execution_count": 499,
   "metadata": {},
   "outputs": [
    {
     "name": "stderr",
     "output_type": "stream",
     "text": [
      "  1%|          | 27/5002 [00:16<50:57,  1.63it/s]"
     ]
    },
    {
     "data": {
      "image/png": "[encoded data removed]",
      "text/plain": [
       "<matplotlib.figure.Figure at 0x7fa0c4bd2dd8>"
      ]
     },
     "metadata": {},
     "output_type": "display_data"
    }
   ],
   "source": [
    "learn.lr_find()"
   ]
  },
  {
   "cell_type": "code",
   "execution_count": 522,
   "metadata": {
    "scrolled": true
   },
   "outputs": [
    {
     "name": "stderr",
     "output_type": "stream",
     "text": [
      "100%|██████████| 10/10 [00:04<00:00,  2.00it/s]"
     ]
    },
    {
     "name": "stdout",
     "output_type": "stream",
     "text": [
      "Epoch 0. Training loss: 2.7074164867401125. Validation loss: N/A.\n"
     ]
    },
    {
     "name": "stderr",
     "output_type": "stream",
     "text": [
      "\n"
     ]
    }
   ],
   "source": [
    "learn.fit(0.1, 1)"
   ]
  },
  {
   "cell_type": "code",
   "execution_count": 523,
   "metadata": {},
   "outputs": [
    {
     "data": {
      "image/png": "[encoded data removed]",
      "text/plain": [
       "<matplotlib.figure.Figure at 0x7fa0b914fc50>"
      ]
     },
     "metadata": {},
     "output_type": "display_data"
    }
   ],
   "source": [
    "learn.plot_loss()"
   ]
  },
  {
   "cell_type": "code",
   "execution_count": 210,
   "metadata": {},
   "outputs": [
    {
     "name": "stderr",
     "output_type": "stream",
     "text": [
      "/home/krisztian/anaconda3/lib/python3.6/site-packages/torch/serialization.py:241: UserWarning: Couldn't retrieve source code for container of type skip_model. It won't be checked for correctness upon loading.\n",
      "  \"type \" + obj.__name__ + \". It won't be checked \"\n"
     ]
    }
   ],
   "source": [
    "torch.save(sgFitter.model, PATH_TMP/'embeddings.pt')"
   ]
  },
  {
   "cell_type": "code",
   "execution_count": 524,
   "metadata": {},
   "outputs": [],
   "source": [
    "embs = sgFitter.model.emb.weight.data.numpy()"
   ]
  },
  {
   "cell_type": "code",
   "execution_count": 525,
   "metadata": {},
   "outputs": [],
   "source": [
    "def cos_dist(u, v): return np.dot(u, v) / np.sqrt(np.sum(u**2)*np.sum(v**2))\n",
    "def emb_pair_dist(a, b, c, d):\n",
    "    return cos_dist(embs[word2idx[a]] - embs[word2idx[b]],\n",
    "                   embs[word2idx[c]] - embs[word2idx[d]])"
   ]
  },
  {
   "cell_type": "code",
   "execution_count": 526,
   "metadata": {},
   "outputs": [
    {
     "data": {
      "text/plain": [
       "0.032636125"
      ]
     },
     "execution_count": 526,
     "metadata": {},
     "output_type": "execute_result"
    }
   ],
   "source": [
    "emb_pair_dist('man', 'woman', 'he', 'she')"
   ]
  },
  {
   "cell_type": "code",
   "execution_count": 527,
   "metadata": {},
   "outputs": [
    {
     "data": {
      "text/plain": [
       "0.0030198644"
      ]
     },
     "execution_count": 527,
     "metadata": {},
     "output_type": "execute_result"
    }
   ],
   "source": [
    "emb_pair_dist('good', 'better', 'bad', 'worse')"
   ]
  }
 ],
 "metadata": {
  "kernelspec": {
   "display_name": "Python 3",
   "language": "python",
   "name": "python3"
  },
  "language_info": {
   "codemirror_mode": {
    "name": "ipython",
    "version": 3
   },
   "file_extension": ".py",
   "mimetype": "text/x-python",
   "name": "python",
   "nbconvert_exporter": "python",
   "pygments_lexer": "ipython3",
   "version": "3.6.4"
  }
 },
 "nbformat": 4,
 "nbformat_minor": 2
}
