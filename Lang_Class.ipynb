{
 "cells": [
  {
   "cell_type": "markdown",
   "metadata": {},
   "source": [
    "# Language Classification"
   ]
  },
  {
   "cell_type": "markdown",
   "metadata": {},
   "source": [
    "## Summary\n",
    "\n",
    "XXX UPDATE FROM README!.\n",
    "\n",
    "The model that achieves near-perfect (99.9%+) test set accuracy. While fitting the model to the whole data takes a significant amount of computation time (~2 hours), the same model fitted to a 1% subsample of the training data also achieves very good results (XXXX).\n",
    "\n",
    "The table below lists the model results based on sample size. \n",
    "\n",
    "\n",
    "| Dataset           | Model              | Accuracy           | Training Time      | Inference Time     | Vocabulary size    | Link              |\n",
    "| ------------------ | ------------------ | ------------------ | ------------------ | ------------------ | ------------------ | ------------------ |\n",
    "| Full Dataset  | Word Level      | 99.97%             | 136 min      |           | 403619         | [here]() |\n",
    "| 10% Sample    | Word Level      | XXXX               | XXX min      |           | XXX            | [here]() |\n",
    "| 1% Sample     | Word Level      | XXXX               | XXX min      |           | XXX            | [here]() |\n",
    "| 1% Sample     | Character Level | XXXX               | XXX min      |           | XXX            | [here]() |\n",
    "\n",
    "Training time involves all preprocessing and model fitting (but not download time). Inference time involves predicting the ~20k sentences of the test set. The runs are done on a google cloud virtual machine with P100 GPU (the notebook contains full specification).\n",
    "\n",
    "## Modelling Challanges\n",
    "\n",
    "On the face of it, the project seems like a simple sequence classification task. Unless the test set contains text whose languages is ambiguous (the same text could pass as, say both Czech and Slovak) or contains extremely rare words, we would expect a good classifier to achieve near-perfect accuracy.\n",
    "\n",
    "While near-perfect accuracy is indeed possible, there are two possible challenges that need to be overcome.\n",
    "\n",
    "First, we can't rely on language specific information (after all, that's what we are trying to predict). This makes many standard NLP preprocessing steps unavailable. For example, we can't assign {'go', 'goes', 'going'} to the same word token. Even lower-casing is debatable, as some languages (for example German) capitalize words differently, a pattern that can be exploited to predict a language (German capitalizes all nouns).\n",
    "\n",
    "Second, I chose not to use any pretrained models, or transfer learning. The challenge description wasn't clear if doing so is allowed or not; to err on the safe side, I only rely on the supplied training set. Normally, pretrained models and transfer learning is a great resource -- after all, the Internet has practically unlimited text data one can pretrain a model on.\n",
    "\n",
    "## Character or Word Level?\n",
    "\n",
    "Should we build a model based on sequences of characters, or sequences of words? \n",
    "\n",
    "If our test set were to contain many words not appearing in the training set, a character-level model would be appropriate. After all, a word-level model can't generalize outside the words it has seen. However, our training corpus is ~5 GB large, so we would expect it to contain the vast majority of common words in each language. \n",
    "\n",
    "Performance side, a character level model benefits from lower memory usage, but higher run-time. (The embedding space is orders of magnitude smaller, but we have to take many more steps for prediction).\n",
    "\n",
    "I will focus on word-level modeling, but also provide a [short notebook]() on how a character-level model could be implemented (it will achieve somewhat lower accuracy). The steps for both models are almost the same."
   ]
  },
  {
   "cell_type": "markdown",
   "metadata": {},
   "source": [
    "## Loading Dependencies\n",
    "\n",
    "I put some uninteresting function definitions into the utils.py file. The text should make it clear what each function accomplishes."
   ]
  },
  {
   "cell_type": "code",
   "execution_count": 1,
   "metadata": {},
   "outputs": [],
   "source": [
    "import sys\n",
    "from pathlib import Path\n",
    "import time\n",
    "\n",
    "import numpy as np\n",
    "import pandas as pd\n",
    "from sklearn.model_selection import train_test_split\n",
    "\n",
    "from tqdm import tqdm\n",
    "import dill  # Better version of pickle, able to save objects with lambda expressions\n",
    "import copy  # Used for making a deep copy of a model\n",
    "from collections import Counter, defaultdict\n",
    "\n",
    "import matplotlib.pyplot as plt\n",
    "import seaborn as sns\n",
    "\n",
    "import torch\n",
    "import torch.nn as nn\n",
    "from torch.utils.data import TensorDataset, DataLoader\n",
    "import torch.optim as optim\n",
    "\n",
    "import utils"
   ]
  },
  {
   "cell_type": "code",
   "execution_count": 2,
   "metadata": {},
   "outputs": [],
   "source": [
    "%matplotlib inline\n",
    "start = time.time()\n",
    "np.random.seed(1)"
   ]
  },
  {
   "cell_type": "markdown",
   "metadata": {},
   "source": [
    "## Settings\n",
    "\n",
    "I will discuss the reasoning behind hyper-parameter choices in the sections they become relevant. \n",
    "\n",
    "One important note: the notebook is written for GPU computations and will not work on a machine with CPU only (fitting the model on a cpu would take way too long anyway)."
   ]
  },
  {
   "cell_type": "code",
   "execution_count": 3,
   "metadata": {},
   "outputs": [],
   "source": [
    "PATH = Path('data')  # Directory for all data and temporary files\n",
    "TRAIN = PATH/'train'  # Directory for training text\n",
    "TEST_FN = PATH/'test'  # Filename for test text\n",
    "PATH_TMP = PATH/'tmp'  # Temporary directory to save progress\n",
    "\n",
    "WORD_LEVEL = True  # If false, we apply character-level modelling\n",
    "MIN_FREQ = 50  # We'll replace words with lower frequency with unknown\n",
    "\n",
    "SEQ_LEN = 32 if WORD_LEVEL else 256  # Length of the sequences passed into our GRU\n",
    "VAL_FRAC = 0.01  # Validation set percentage\n",
    "\n",
    "# For the batch-size, select the largest power of 2 your GPU can comfortably handle.\n",
    "# However, the optimal learning rate (see model training section) will probably change.\n",
    "BS = 512  # Batch size for our RNN\n",
    "\n",
    "EMB_SZ = 50  # Dimension of word embeddings\n",
    "HIDDEN_SZ = 250  # Hidden layer dimension of the GRU\n",
    "EMB_DROP = 0.25  # Dropout applied to embeddings\n",
    "LAYER_DROP = 0.25  # Dropout applied after GRU\n",
    "LR = 3e-3 if WORD_LEVEL else 1e-2  # Learning rate for fitting\n",
    "EPOCHS = 1 if WORD_LEVEL else 2  # Epochs to train \n",
    "EPOCHS_FT = 3 if WORD_LEVEL else 3  # Epochs to fine-tune with very small learning rate (LR / 100)\n",
    "\n",
    "# List of languages\n",
    "LANGS = list(map(lambda x: x.name, list(TRAIN.iterdir())))\n",
    "\n",
    "assert torch.cuda.is_available()  # Notebook is written for GPU computations."
   ]
  },
  {
   "cell_type": "code",
   "execution_count": 4,
   "metadata": {},
   "outputs": [],
   "source": [
    "PATH_TMP.mkdir(parents=True, exist_ok=True)"
   ]
  },
  {
   "cell_type": "markdown",
   "metadata": {},
   "source": [
    "## Clarify Goal\n",
    "\n",
    "Let's first have a look at the test set we are trying to predict. It looks like a simple text classification task."
   ]
  },
  {
   "cell_type": "code",
   "execution_count": 5,
   "metadata": {},
   "outputs": [
    {
     "data": {
      "text/html": [
       "<div>\n",
       "<style scoped>\n",
       "    .dataframe tbody tr th:only-of-type {\n",
       "        vertical-align: middle;\n",
       "    }\n",
       "\n",
       "    .dataframe tbody tr th {\n",
       "        vertical-align: top;\n",
       "    }\n",
       "\n",
       "    .dataframe thead th {\n",
       "        text-align: right;\n",
       "    }\n",
       "</style>\n",
       "<table border=\"1\" class=\"dataframe\">\n",
       "  <thead>\n",
       "    <tr style=\"text-align: right;\">\n",
       "      <th></th>\n",
       "      <th>label</th>\n",
       "      <th>text</th>\n",
       "    </tr>\n",
       "  </thead>\n",
       "  <tbody>\n",
       "    <tr>\n",
       "      <th>4992</th>\n",
       "      <td>en</td>\n",
       "      <td>(BG) Thank you, Mr President.</td>\n",
       "    </tr>\n",
       "    <tr>\n",
       "      <th>4993</th>\n",
       "      <td>en</td>\n",
       "      <td>(EL) Madam President, I agree and recognise Tu...</td>\n",
       "    </tr>\n",
       "    <tr>\n",
       "      <th>4994</th>\n",
       "      <td>en</td>\n",
       "      <td>(FI) Madam President, firstly, I would like to...</td>\n",
       "    </tr>\n",
       "    <tr>\n",
       "      <th>4995</th>\n",
       "      <td>en</td>\n",
       "      <td>(FI) Mr President, the Treaty of Lisbon will r...</td>\n",
       "    </tr>\n",
       "    <tr>\n",
       "      <th>4996</th>\n",
       "      <td>en</td>\n",
       "      <td>(FR) Madam President, one of the priorities of...</td>\n",
       "    </tr>\n",
       "  </tbody>\n",
       "</table>\n",
       "</div>"
      ],
      "text/plain": [
       "     label                                               text\n",
       "4992    en                      (BG) Thank you, Mr President.\n",
       "4993    en  (EL) Madam President, I agree and recognise Tu...\n",
       "4994    en  (FI) Madam President, firstly, I would like to...\n",
       "4995    en  (FI) Mr President, the Treaty of Lisbon will r...\n",
       "4996    en  (FR) Madam President, one of the priorities of..."
      ]
     },
     "execution_count": 5,
     "metadata": {},
     "output_type": "execute_result"
    }
   ],
   "source": [
    "test = pd.read_csv(TEST_FN, sep = '\\t', lineterminator='\\n', header=None)\n",
    "test.rename({0:'label', 1:'text'}, axis = 1, inplace=True)\n",
    "test[test['label'] == 'en'].head()"
   ]
  },
  {
   "cell_type": "markdown",
   "metadata": {},
   "source": [
    "Before going any further, let's apply some preprocessing. In particular, I apply the following steps:\n",
    "1. Remove uninformative meta-comments, such as who is speaking.\n",
    "1. Replace numbers with a generic (*num*) token. After all, the specific number shouldn't affect the classification results.\n",
    "1. Create special end-of-sentence (*eos*) tokens.\n",
    "1. Replace all punctuation with a special (*punc*) token. \n",
    "1. Collapse adjecent white space. In other words, '&nbsp;&nbsp;&nbsp;&nbsp;&nbsp;' becomes '&nbsp;'."
   ]
  },
  {
   "cell_type": "code",
   "execution_count": 6,
   "metadata": {},
   "outputs": [],
   "source": [
    "tt_start = time.time()  # We keep track of the total time needed for preprocessing+prediction\n",
    "test['text'] = test['text'].apply(lambda x: utils.preprocess(x, word_level = WORD_LEVEL))\n",
    "test_time = time.time()-tt_start"
   ]
  },
  {
   "cell_type": "markdown",
   "metadata": {},
   "source": [
    "Let's check the first English and German sentences after pre-processing."
   ]
  },
  {
   "cell_type": "code",
   "execution_count": 7,
   "metadata": {},
   "outputs": [
    {
     "name": "stdout",
     "output_type": "stream",
     "text": [
      "<punct> BG <punct> Thank you <punct> Mr President <eos>\n",
      "---\n",
      "<punct> BG <punct> Herr Kommissar <eos> Das Dokument <punct> das vom Europäischen Parlament angenommen werden soll <punct> ist in der Tat sehr wichtig <eos>\n"
     ]
    }
   ],
   "source": [
    "print(test[test['label']=='en'].iloc[0][\"text\"])\n",
    "print('---')\n",
    "print(test[test['label']=='de'].iloc[0][\"text\"])"
   ]
  },
  {
   "cell_type": "code",
   "execution_count": 8,
   "metadata": {
    "scrolled": true
   },
   "outputs": [
    {
     "data": {
      "text/html": [
       "<div>\n",
       "<style scoped>\n",
       "    .dataframe tbody tr th:only-of-type {\n",
       "        vertical-align: middle;\n",
       "    }\n",
       "\n",
       "    .dataframe tbody tr th {\n",
       "        vertical-align: top;\n",
       "    }\n",
       "\n",
       "    .dataframe thead th {\n",
       "        text-align: right;\n",
       "    }\n",
       "</style>\n",
       "<table border=\"1\" class=\"dataframe\">\n",
       "  <thead>\n",
       "    <tr style=\"text-align: right;\">\n",
       "      <th></th>\n",
       "      <th>sentence_count</th>\n",
       "      <th>word_count</th>\n",
       "      <th>len</th>\n",
       "    </tr>\n",
       "  </thead>\n",
       "  <tbody>\n",
       "    <tr>\n",
       "      <th>count</th>\n",
       "      <td>20828.000000</td>\n",
       "      <td>20828.000000</td>\n",
       "      <td>20828.000000</td>\n",
       "    </tr>\n",
       "    <tr>\n",
       "      <th>mean</th>\n",
       "      <td>1.113837</td>\n",
       "      <td>26.071922</td>\n",
       "      <td>175.205541</td>\n",
       "    </tr>\n",
       "    <tr>\n",
       "      <th>std</th>\n",
       "      <td>0.851456</td>\n",
       "      <td>25.298060</td>\n",
       "      <td>167.062078</td>\n",
       "    </tr>\n",
       "    <tr>\n",
       "      <th>min</th>\n",
       "      <td>1.000000</td>\n",
       "      <td>3.000000</td>\n",
       "      <td>22.000000</td>\n",
       "    </tr>\n",
       "    <tr>\n",
       "      <th>25%</th>\n",
       "      <td>1.000000</td>\n",
       "      <td>15.000000</td>\n",
       "      <td>99.000000</td>\n",
       "    </tr>\n",
       "    <tr>\n",
       "      <th>50%</th>\n",
       "      <td>1.000000</td>\n",
       "      <td>23.000000</td>\n",
       "      <td>154.000000</td>\n",
       "    </tr>\n",
       "    <tr>\n",
       "      <th>75%</th>\n",
       "      <td>1.000000</td>\n",
       "      <td>33.000000</td>\n",
       "      <td>224.000000</td>\n",
       "    </tr>\n",
       "    <tr>\n",
       "      <th>max</th>\n",
       "      <td>77.000000</td>\n",
       "      <td>2184.000000</td>\n",
       "      <td>14069.000000</td>\n",
       "    </tr>\n",
       "  </tbody>\n",
       "</table>\n",
       "</div>"
      ],
      "text/plain": [
       "       sentence_count    word_count           len\n",
       "count    20828.000000  20828.000000  20828.000000\n",
       "mean         1.113837     26.071922    175.205541\n",
       "std          0.851456     25.298060    167.062078\n",
       "min          1.000000      3.000000     22.000000\n",
       "25%          1.000000     15.000000     99.000000\n",
       "50%          1.000000     23.000000    154.000000\n",
       "75%          1.000000     33.000000    224.000000\n",
       "max         77.000000   2184.000000  14069.000000"
      ]
     },
     "execution_count": 8,
     "metadata": {},
     "output_type": "execute_result"
    }
   ],
   "source": [
    "def word_count(x): return len(x.split())\n",
    "def sentence_count(x): return len(x.split('<eos>')) - 1\n",
    "test['text'].apply([sentence_count, word_count, len]).describe()"
   ]
  },
  {
   "cell_type": "markdown",
   "metadata": {},
   "source": [
    "The target for our classification model has the following characteristics:\n",
    "1. The vast majority of examples are single sentences.\n",
    "1. Most of the time, we have a decent number of words (15-33) to predict a language.\n",
    "1. However, we can have as little as 3 words. This might pose a challenge if those words are not language-specific.\n",
    "1. Content-wise, most sentences seem to be about parliamentary proceedings (my guess: proceedings of the EUP for more recent years)."
   ]
  },
  {
   "cell_type": "markdown",
   "metadata": {},
   "source": [
    "## Preprocess Training/Validation Data\n",
    "\n",
    "Our training set is of similar content, but in a different format. Specifically, we don't have sentence-level chunks as in our test set. Instead, we have files containing varying number of sentences. So we need to create a dataframe that resembles our test set.\n",
    "\n",
    "First, we take all files for a language and concatenate them together."
   ]
  },
  {
   "cell_type": "code",
   "execution_count": 9,
   "metadata": {},
   "outputs": [
    {
     "data": {
      "text/plain": [
       "'<CHAPTER ID=\"014\">\\nWritten statements for entry in the register (Rule 116): see Minutes\\n<CHAPTER ID=\"009-16\">\\n16. Institutional balance of the European Union (\\n<P>\\n- Before the vote\\n<SPEAKER ID=\"133\" '"
      ]
     },
     "execution_count": 9,
     "metadata": {},
     "output_type": "execute_result"
    }
   ],
   "source": [
    "# An example with English, we'll do all processing steps for all files below.\n",
    "exampl = utils.concat_docs('en', TRAIN)\n",
    "exampl[:200]"
   ]
  },
  {
   "cell_type": "markdown",
   "metadata": {},
   "source": [
    "Now we apply the same pre-processing as we did to our test set, and turn the whole corpus into a list of sentences."
   ]
  },
  {
   "cell_type": "code",
   "execution_count": 10,
   "metadata": {},
   "outputs": [
    {
     "data": {
      "text/plain": [
       "['Written statements for entry in the register <punct> Rule <num> <punct> <punct> see Minutes <eos>',\n",
       " '<num> Institutional balance of the European Union <punct> <eos>',\n",
       " '<punct> Before the vote <eos>']"
      ]
     },
     "execution_count": 10,
     "metadata": {},
     "output_type": "execute_result"
    }
   ],
   "source": [
    "# Example continued.\n",
    "exampl = utils.txt2list(utils.preprocess(exampl[:1000], word_level=WORD_LEVEL))\n",
    "exampl[:3]"
   ]
  },
  {
   "cell_type": "markdown",
   "metadata": {},
   "source": [
    "There is one last step we do. The test set had occasionally (although not often) multiple sentences. So we want to have, occasionally, multiple sentences in our training set as well. We can accomplish this by concatenating adjecent sentences together with a small probability (p = 0.02).\n",
    "\n",
    "Let's apply all the above steps to all languages. I will also put everything into a dataframe with an extra column giving the language label."
   ]
  },
  {
   "cell_type": "code",
   "execution_count": 11,
   "metadata": {},
   "outputs": [
    {
     "name": "stdout",
     "output_type": "stream",
     "text": [
      " fi  et  it  lt  pt  lv  nl  pl \n",
      "1 files not loaded for pl\n",
      " bg  en  sk  fr  da  hu  cs  sl  es  el  ro  de  sv "
     ]
    },
    {
     "data": {
      "text/html": [
       "<div>\n",
       "<style scoped>\n",
       "    .dataframe tbody tr th:only-of-type {\n",
       "        vertical-align: middle;\n",
       "    }\n",
       "\n",
       "    .dataframe tbody tr th {\n",
       "        vertical-align: top;\n",
       "    }\n",
       "\n",
       "    .dataframe thead th {\n",
       "        text-align: right;\n",
       "    }\n",
       "</style>\n",
       "<table border=\"1\" class=\"dataframe\">\n",
       "  <thead>\n",
       "    <tr style=\"text-align: right;\">\n",
       "      <th></th>\n",
       "      <th>label</th>\n",
       "      <th>text</th>\n",
       "    </tr>\n",
       "  </thead>\n",
       "  <tbody>\n",
       "    <tr>\n",
       "      <th>0</th>\n",
       "      <td>fi</td>\n",
       "      <td>Luetteloon kirjatut kirjalliset kannanotot &lt;pu...</td>\n",
       "    </tr>\n",
       "    <tr>\n",
       "      <th>1</th>\n",
       "      <td>fi</td>\n",
       "      <td>pöytäkirja &lt;eos&gt;</td>\n",
       "    </tr>\n",
       "    <tr>\n",
       "      <th>2</th>\n",
       "      <td>fi</td>\n",
       "      <td>&lt;num&gt; Euroopan unionin institutionaalinen tasa...</td>\n",
       "    </tr>\n",
       "    <tr>\n",
       "      <th>3</th>\n",
       "      <td>fi</td>\n",
       "      <td>&lt;punct&gt; Ennen äänestystä &lt;eos&gt;</td>\n",
       "    </tr>\n",
       "    <tr>\n",
       "      <th>4</th>\n",
       "      <td>fi</td>\n",
       "      <td>Arvoisa puhemies &lt;punct&gt; ensinnäkin haluaisin ...</td>\n",
       "    </tr>\n",
       "  </tbody>\n",
       "</table>\n",
       "</div>"
      ],
      "text/plain": [
       "  label                                               text\n",
       "0    fi  Luetteloon kirjatut kirjalliset kannanotot <pu...\n",
       "1    fi                                   pöytäkirja <eos>\n",
       "2    fi  <num> Euroopan unionin institutionaalinen tasa...\n",
       "3    fi                     <punct> Ennen äänestystä <eos>\n",
       "4    fi  Arvoisa puhemies <punct> ensinnäkin haluaisin ..."
      ]
     },
     "execution_count": 11,
     "metadata": {},
     "output_type": "execute_result"
    }
   ],
   "source": [
    "dfs = []  # List to store data frames\n",
    "for lang in LANGS:\n",
    "    print(' '+lang+' ', end = \"\")\n",
    "    txt = utils.concat_docs(lang, TRAIN)                # 1. Concatenate all files\n",
    "    txt = utils.preprocess(txt, word_level=WORD_LEVEL)  # 2. Apply preprocessing described in test section\n",
    "    txt = utils.txt2list(txt)                           # 3. Convert to list\n",
    "    txt = utils.concat_random_sent(txt, p = 0.02)       # 4. Concatenate random adjecent sentences\n",
    "    temp_df = pd.DataFrame({'text':txt})                # 5. Convert to dataframe\n",
    "    temp_df['label'] = lang                             # 6. Add label   \n",
    "    dfs.append(temp_df)\n",
    "df = pd.concat(dfs)[['label', 'text']]\n",
    "df.reset_index(inplace=True, drop = True)\n",
    "df.head()"
   ]
  },
  {
   "cell_type": "code",
   "execution_count": 12,
   "metadata": {},
   "outputs": [
    {
     "data": {
      "text/html": [
       "<div>\n",
       "<style scoped>\n",
       "    .dataframe tbody tr th:only-of-type {\n",
       "        vertical-align: middle;\n",
       "    }\n",
       "\n",
       "    .dataframe tbody tr th {\n",
       "        vertical-align: top;\n",
       "    }\n",
       "\n",
       "    .dataframe thead th {\n",
       "        text-align: right;\n",
       "    }\n",
       "</style>\n",
       "<table border=\"1\" class=\"dataframe\">\n",
       "  <thead>\n",
       "    <tr style=\"text-align: right;\">\n",
       "      <th></th>\n",
       "      <th>sentence_count</th>\n",
       "      <th>word_count</th>\n",
       "      <th>len</th>\n",
       "    </tr>\n",
       "  </thead>\n",
       "  <tbody>\n",
       "    <tr>\n",
       "      <th>count</th>\n",
       "      <td>3.048061e+07</td>\n",
       "      <td>3.048061e+07</td>\n",
       "      <td>3.048061e+07</td>\n",
       "    </tr>\n",
       "    <tr>\n",
       "      <th>mean</th>\n",
       "      <td>1.020203e+00</td>\n",
       "      <td>2.505465e+01</td>\n",
       "      <td>1.659192e+02</td>\n",
       "    </tr>\n",
       "    <tr>\n",
       "      <th>std</th>\n",
       "      <td>1.421151e-01</td>\n",
       "      <td>1.654994e+01</td>\n",
       "      <td>1.098095e+02</td>\n",
       "    </tr>\n",
       "    <tr>\n",
       "      <th>min</th>\n",
       "      <td>1.000000e+00</td>\n",
       "      <td>2.000000e+00</td>\n",
       "      <td>9.000000e+00</td>\n",
       "    </tr>\n",
       "    <tr>\n",
       "      <th>25%</th>\n",
       "      <td>1.000000e+00</td>\n",
       "      <td>1.300000e+01</td>\n",
       "      <td>8.800000e+01</td>\n",
       "    </tr>\n",
       "    <tr>\n",
       "      <th>50%</th>\n",
       "      <td>1.000000e+00</td>\n",
       "      <td>2.200000e+01</td>\n",
       "      <td>1.450000e+02</td>\n",
       "    </tr>\n",
       "    <tr>\n",
       "      <th>75%</th>\n",
       "      <td>1.000000e+00</td>\n",
       "      <td>3.300000e+01</td>\n",
       "      <td>2.190000e+02</td>\n",
       "    </tr>\n",
       "    <tr>\n",
       "      <th>max</th>\n",
       "      <td>4.000000e+00</td>\n",
       "      <td>1.069000e+03</td>\n",
       "      <td>6.983000e+03</td>\n",
       "    </tr>\n",
       "  </tbody>\n",
       "</table>\n",
       "</div>"
      ],
      "text/plain": [
       "       sentence_count    word_count           len\n",
       "count    3.048061e+07  3.048061e+07  3.048061e+07\n",
       "mean     1.020203e+00  2.505465e+01  1.659192e+02\n",
       "std      1.421151e-01  1.654994e+01  1.098095e+02\n",
       "min      1.000000e+00  2.000000e+00  9.000000e+00\n",
       "25%      1.000000e+00  1.300000e+01  8.800000e+01\n",
       "50%      1.000000e+00  2.200000e+01  1.450000e+02\n",
       "75%      1.000000e+00  3.300000e+01  2.190000e+02\n",
       "max      4.000000e+00  1.069000e+03  6.983000e+03"
      ]
     },
     "execution_count": 12,
     "metadata": {},
     "output_type": "execute_result"
    }
   ],
   "source": [
    "df['text'].apply([sentence_count, word_count, len]).describe()"
   ]
  },
  {
   "cell_type": "markdown",
   "metadata": {},
   "source": [
    "Our resulting dataframe looks very similar to our test set. \n",
    "\n",
    "One difference: we don't go quite as high on the maximum words and sentences. That difference is not going to matter though, as later on all texts will be truncated at 32 words anyway."
   ]
  },
  {
   "cell_type": "code",
   "execution_count": 13,
   "metadata": {},
   "outputs": [],
   "source": [
    "del(dfs, temp_df, txt, exampl)"
   ]
  },
  {
   "cell_type": "code",
   "execution_count": 14,
   "metadata": {},
   "outputs": [],
   "source": [
    "#dill.dump(df, open(PATH_TMP/'df.pickle', mode = 'wb'))\n",
    "#df = dill.load(open(PATH_TMP/'df.pickle', mode = 'rb'))"
   ]
  },
  {
   "cell_type": "markdown",
   "metadata": {},
   "source": [
    "## Train/Validation Split\n",
    "\n",
    "Let's split the data for training and validation. No big surprises here.\n",
    "\n",
    "I use 1% of the data as validation. If that seems unusual, note that our dataset contains ~30 million, rows, so our validation set will contain ~300k. I'm only using the validation set to monitor performance and check for over-fitting. 300k examples are enough for that."
   ]
  },
  {
   "cell_type": "code",
   "execution_count": 15,
   "metadata": {},
   "outputs": [
    {
     "data": {
      "text/plain": [
       "30480606"
      ]
     },
     "execution_count": 15,
     "metadata": {},
     "output_type": "execute_result"
    }
   ],
   "source": [
    "len(df.index)"
   ]
  },
  {
   "cell_type": "code",
   "execution_count": 16,
   "metadata": {},
   "outputs": [
    {
     "data": {
      "text/plain": [
       "array(['hu', 'nl', 'sv', ..., 'es', 'fr', 'es'], dtype=object)"
      ]
     },
     "execution_count": 16,
     "metadata": {},
     "output_type": "execute_result"
    }
   ],
   "source": [
    "X_train, X_val, y_train, y_val = train_test_split(np.array(df['text']), np.array(df['label']), \n",
    "                                                  test_size=VAL_FRAC, random_state=42)\n",
    "y_train"
   ]
  },
  {
   "cell_type": "code",
   "execution_count": 17,
   "metadata": {},
   "outputs": [],
   "source": [
    "del(df)"
   ]
  },
  {
   "cell_type": "markdown",
   "metadata": {},
   "source": [
    "## Numericalize\n",
    "\n",
    "We need to turn our words into intiger indices. Later we use these indices to look up the embeddings for each word.\n",
    "\n",
    "Let's start by counting the number of times a word appears in our training data."
   ]
  },
  {
   "cell_type": "code",
   "execution_count": 18,
   "metadata": {},
   "outputs": [
    {
     "name": "stderr",
     "output_type": "stream",
     "text": []
    },
    {
     "data": {
      "text/plain": [
       "[('<punct>', 60321250),\n",
       " ('<eos>', 30785471),\n",
       " ('de', 14946635),\n",
       " ('a', 7506719),\n",
       " ('<num>', 6104372),\n",
       " ('la', 5537502),\n",
       " ('en', 5126823),\n",
       " ('que', 4767341),\n",
       " ('in', 4292842),\n",
       " ('the', 3911519)]"
      ]
     },
     "execution_count": 18,
     "metadata": {},
     "output_type": "execute_result"
    }
   ],
   "source": [
    "words = Counter()\n",
    "if WORD_LEVEL:\n",
    "    for row in tqdm(X_train, position=0, leave=False): words.update(row.split())\n",
    "else:  \n",
    "    for row in tqdm(X_train, position=0, leave=False): words.update(list(row)) \n",
    "words.most_common(10)"
   ]
  },
  {
   "cell_type": "markdown",
   "metadata": {},
   "source": [
    "No big surprises: the most frequent words are punctuation, end-of-sentence tokens, articles and prepositions.\n",
    "\n",
    "Now we drop all words with frequency less than 50 (what is specified under MIN_FREQ). Doing so makes our embedding matrix smaller. Decreasing MIN_FREQ will increase the accuracy of our model, at a higher memory and computation cost.\n",
    "\n",
    "We also add two special tokens: unknown (*unk*) and padding (*pad*). Unknown is any word not appearing in our list. These are any new words in our test or validation set, as well as the words we previously dropped due to low frequency. Padding will later be used to make all sequences of equal length. "
   ]
  },
  {
   "cell_type": "code",
   "execution_count": 19,
   "metadata": {},
   "outputs": [
    {
     "name": "stderr",
     "output_type": "stream",
     "text": []
    }
   ],
   "source": [
    "words = {k:v for k, v in tqdm(words.items(), leave = False) if v >= MIN_FREQ}\n",
    "words = sorted(words, key=words.get, reverse=True)\n",
    "words = ['<unk>','<pad>'] + words"
   ]
  },
  {
   "cell_type": "code",
   "execution_count": 20,
   "metadata": {},
   "outputs": [
    {
     "data": {
      "text/plain": [
       "403619"
      ]
     },
     "execution_count": 20,
     "metadata": {},
     "output_type": "execute_result"
    }
   ],
   "source": [
    "vocab_size = len(words)\n",
    "vocab_size"
   ]
  },
  {
   "cell_type": "markdown",
   "metadata": {},
   "source": [
    "We have more than 400k unique words. That's a lot for a regular NLP task, but considering there are 21 languages, it's not that surprising. The vocabulary size can be controlled by how many words we drop (MIN_FREQ).\n",
    "\n",
    "We need to create a mapping from words to integers (and back). I'll use the dictionaries below to do so. Note that unknown is mapped to 0, and padding is mapped to 1 (they are the first two elements by construction)."
   ]
  },
  {
   "cell_type": "code",
   "execution_count": 21,
   "metadata": {},
   "outputs": [],
   "source": [
    "word2idx = defaultdict(lambda: 0, {o:i for i,o in enumerate(words)})\n",
    "idx2word = defaultdict(lambda: '<unk>', {i:o for i,o in enumerate(words)})"
   ]
  },
  {
   "cell_type": "markdown",
   "metadata": {},
   "source": [
    "Here is the first sentence of the training set converted into indices:"
   ]
  },
  {
   "cell_type": "code",
   "execution_count": 22,
   "metadata": {},
   "outputs": [
    {
     "name": "stdout",
     "output_type": "stream",
     "text": [
      "[5, 2417, 11120, 8405, 3]\n"
     ]
    }
   ],
   "source": [
    "if WORD_LEVEL:\n",
    "    print([word2idx[w] for w in X_train[0].split()])\n",
    "else:  \n",
    "    print([word2idx[w] for w in list(X_train[0])])  # For character-level models"
   ]
  },
  {
   "cell_type": "markdown",
   "metadata": {},
   "source": [
    "Now we apply the above mapping to the whole training set. I also truncate long sentences to 32 words -- that should be more than enough to classify a language, and having more words would needlessly slow down computation time.\n",
    "\n",
    "Sentences shorter than 32 words are padded with the special (*pad*) character. This way, all example are of equal length, making subsequent computations easier."
   ]
  },
  {
   "cell_type": "code",
   "execution_count": 23,
   "metadata": {},
   "outputs": [
    {
     "name": "stderr",
     "output_type": "stream",
     "text": [
      "                                                          "
     ]
    },
    {
     "name": "stdout",
     "output_type": "stream",
     "text": [
      "(30175799, 32)\n"
     ]
    },
    {
     "name": "stderr",
     "output_type": "stream",
     "text": []
    }
   ],
   "source": [
    "X_train = utils.numericalize(X_train, word2idx, maxlen = SEQ_LEN, word_level = WORD_LEVEL)\n",
    "X_val = utils.numericalize(X_val, word2idx, maxlen = SEQ_LEN, word_level = WORD_LEVEL)\n",
    "print(X_train.shape)"
   ]
  },
  {
   "cell_type": "markdown",
   "metadata": {},
   "source": [
    "Of course, we can alway convert our indices back. Below is our first training example converted back to text."
   ]
  },
  {
   "cell_type": "code",
   "execution_count": 24,
   "metadata": {},
   "outputs": [
    {
     "data": {
      "text/plain": [
       "['a PSE képviselőcsoport nevében <eos>']"
      ]
     },
     "execution_count": 24,
     "metadata": {},
     "output_type": "execute_result"
    }
   ],
   "source": [
    "utils.de_numericalize(X_train[:1], idx2word, word_level = WORD_LEVEL)"
   ]
  },
  {
   "cell_type": "markdown",
   "metadata": {},
   "source": [
    "We'll also replace languages with contiguous integers."
   ]
  },
  {
   "cell_type": "code",
   "execution_count": 25,
   "metadata": {},
   "outputs": [],
   "source": [
    "lang2idx = defaultdict(lambda: 0, {o:i for i,o in enumerate(LANGS)})\n",
    "idx2lang = defaultdict(lambda: '<unk>', {i:o for i,o in enumerate(LANGS)})"
   ]
  },
  {
   "cell_type": "code",
   "execution_count": 26,
   "metadata": {},
   "outputs": [
    {
     "name": "stdout",
     "output_type": "stream",
     "text": [
      "['hu' 'nl' 'sv' 'pl' 'ro' 'es' 'fr' 'sv' 'fi' 'lv']\n",
      "[13  6 20  7 18 16 11 20  0  5]\n"
     ]
    }
   ],
   "source": [
    "print(y_train[:10])  # Before\n",
    "y_train = np.array([lang2idx[x] for x in y_train])\n",
    "y_val = np.array([lang2idx[x] for x in y_val])\n",
    "print(y_train[:10])  # After"
   ]
  },
  {
   "cell_type": "code",
   "execution_count": 27,
   "metadata": {},
   "outputs": [],
   "source": [
    "#with open(PATH_TMP/'numericalized.pickle', mode = 'wb') as f:\n",
    "#    dill.dump([words, vocab_size, word2idx, idx2word, X_train, X_val, y_train, y_val], f)\n",
    "#with open(PATH_TMP/'numericalized.pickle', mode = 'rb') as f:\n",
    "#    (words, vocab_size, word2idx, idx2word, X_train, X_val, y_train, y_val) = dill.load(f)"
   ]
  },
  {
   "cell_type": "code",
   "execution_count": 28,
   "metadata": {},
   "outputs": [
    {
     "name": "stdout",
     "output_type": "stream",
     "text": [
      "Time after pre-processing : 39.834116065502165 mins\n"
     ]
    }
   ],
   "source": [
    "end = time.time()\n",
    "print(f'Time after pre-processing : {(end - start)/60} mins')"
   ]
  },
  {
   "cell_type": "markdown",
   "metadata": {},
   "source": [
    "## Define Dataloaders\n",
    "\n",
    "We take our training and validation data, convert them from numpy arrays to torch tensors, and put them in dataloaders. "
   ]
  },
  {
   "cell_type": "code",
   "execution_count": 29,
   "metadata": {},
   "outputs": [],
   "source": [
    "X_train = torch.from_numpy(X_train).type(torch.int64)\n",
    "y_train = torch.from_numpy(y_train).type(torch.int64)\n",
    "X_val = torch.from_numpy(X_val).type(torch.int64)\n",
    "y_val = torch.from_numpy(y_val).type(torch.int64)\n",
    "\n",
    "train_dl = DataLoader(TensorDataset(X_train, y_train), batch_size=BS, shuffle = True)\n",
    "valid_dl = DataLoader(TensorDataset(X_val, y_val), batch_size=BS, shuffle = False)"
   ]
  },
  {
   "cell_type": "markdown",
   "metadata": {},
   "source": [
    "## Define Model\n",
    "\n",
    "Our model is a relatively simple recurrent network. We go through our sentence word by word, look it up in our embedding matrix, and feed it into our GRU. We apply a linear layer to the final output of our GRU, which gives our predictions. \n",
    "\n",
    "![Model Illustration](model_illustration.jpg)\n",
    "\n",
    "I also added dropout for regularization. I applied it at two points: first after our embedding lookup, and then before the final linear layer.\n",
    "\n",
    "Why not use something more complicated (say, a bidirectional LSTM)? It's simply not needed. The task is relatively simple, no need for an overkill.\n",
    "\n",
    "### On Hyperparameters\n",
    "\n",
    "The model is quite insensitive to changes in hyper-parameters. My experiments indicated that changing most modeling parameters by a factor of 0.2 - 5 doesn't change the validation accuracy much.\n",
    "\n",
    "The most surprising hyper-parameter is probably the embedding size. Usual NLP tasks have embedding dimensions of 200-700. However, our model doesn't need to learn a rich semantic representation for each word, only what is relevant to language prediction. Moreover, given our large vocabulary size we can easily run into memory errors if we choose too high of an embedding dimension. An embedding size of 50 suffices.\n",
    "\n",
    "I chose to use moderate amount dropout and a somewhat larger hidden layer than necessary. This choice just follows conventional deep learning advice: a regularized larger model usually performs better than an un-regularized smaller one."
   ]
  },
  {
   "cell_type": "code",
   "execution_count": 30,
   "metadata": {},
   "outputs": [],
   "source": [
    "# The code below is a straightforward pytorch implementation of the concepts above\n",
    "class Lang_Detect(nn.Module):\n",
    "    def __init__(self, emb_sz = EMB_SZ, vocab_size = vocab_size,\n",
    "                 hidden_sz = HIDDEN_SZ, out_sz = len(LANGS), \n",
    "                 emb_drop = EMB_DROP, layer_drop = LAYER_DROP):\n",
    "        super().__init__()\n",
    "        self.hidden_sz = hidden_sz\n",
    "        self.emb = nn.Embedding(vocab_size, emb_sz)\n",
    "        self.emb_drop = nn.Dropout(emb_drop)\n",
    "        self.emb.weight.data.uniform_(-0.05, 0.05)  # Initialize embeddings\n",
    "        self.gru = nn.GRU(emb_sz, hidden_sz)\n",
    "        self.layer_drop = nn.Dropout(layer_drop)\n",
    "        self.lout = nn.Linear(hidden_sz, out_sz)        \n",
    "                \n",
    "    def forward(self, seq): \n",
    "        bs, _ = seq.shape\n",
    "        h =  torch.zeros(1, bs, self.hidden_sz).cuda()  # Initial empty hidden state\n",
    "        embedded = self.emb(seq).transpose(0, 1)\n",
    "        outputs, _ = self.gru(self.emb_drop(embedded), h)\n",
    "        output = self.lout(self.layer_drop(outputs[-1]))\n",
    "        return output"
   ]
  },
  {
   "cell_type": "code",
   "execution_count": 31,
   "metadata": {},
   "outputs": [],
   "source": [
    "model = Lang_Detect().cuda()"
   ]
  },
  {
   "cell_type": "markdown",
   "metadata": {},
   "source": [
    "I use standard cross-entropy as the loss function."
   ]
  },
  {
   "cell_type": "code",
   "execution_count": 32,
   "metadata": {},
   "outputs": [],
   "source": [
    "loss_func = nn.CrossEntropyLoss().cuda()"
   ]
  },
  {
   "cell_type": "markdown",
   "metadata": {},
   "source": [
    "## Fit Model\n",
    "\n",
    "I create a special class that helps with fitting the model. It is model agnostic, and can help fit other pytorch models as well.\n",
    "\n",
    "First a helper function that calculates the loss for a batch, and updates parameters:"
   ]
  },
  {
   "cell_type": "code",
   "execution_count": 33,
   "metadata": {},
   "outputs": [],
   "source": [
    "def loss_batch(xb, yb, model, loss_func, opt=None):\n",
    "    \n",
    "    '''Calculates the loss for a minibatch, and (if opt is given) updates parameters'''\n",
    "    # Taken from: https://github.com/fastai/fastai_v1/blob/master/dev_nb/001a_nn_basics.ipynb\n",
    "\n",
    "    loss = loss_func(model(xb.cuda()), yb.cuda())\n",
    "    if opt is not None:  # Update parameters\n",
    "        loss.backward(); opt.step(); opt.zero_grad()\n",
    "        \n",
    "    return loss.item(), len(xb)"
   ]
  },
  {
   "cell_type": "markdown",
   "metadata": {},
   "source": [
    "The Learner class below has 3 methods to help the fitting process:\n",
    "- **lr_find**: to find the optimal learning rate,\n",
    "- **fit**: to fit the model,\n",
    "- **predict**: to predict on new data,\n",
    "- **plot_loss**: plot the training loss.\n",
    "\n",
    "The inspiration for this class is the [fast.ai](https://github.com/Gokkulnath/fastai-v0.7) library (version 0.7, now depreciated), which contains similar classes for fitting pytorch models.\n",
    "\n",
    "I use the Adam optimizer with default settings."
   ]
  },
  {
   "cell_type": "code",
   "execution_count": 34,
   "metadata": {},
   "outputs": [],
   "source": [
    "class Learner(object):\n",
    "    \n",
    "    def __init__(self, model, loss_func, train_dl = None, valid_dl = None):\n",
    "        self.model = model\n",
    "        self.loss_func = loss_func\n",
    "        self.train_dl = train_dl\n",
    "        self.valid_dl = valid_dl\n",
    "        self.losses = []\n",
    "    \n",
    "    def lr_find(self, start = 1e-6, end = 1e3, exp_smooth_param = 0.95):\n",
    "        \n",
    "        '''Learning rate finder, detailed explanation below.'''\n",
    "        \n",
    "        old_state_dict = copy.deepcopy(self.model.state_dict())  # Save old parameters\n",
    "        self.model.train()\n",
    "        lr = start; lrs = []; losses = []; i = 0\n",
    "        for xb,yb in tqdm(self.train_dl, leave = False,\n",
    "                         position = 0):\n",
    "            opt = optim.Adam(self.model.parameters(), lr=lr)\n",
    "            loss, _ = loss_batch(xb, yb, self.model, self.loss_func, opt)\n",
    "            lrs.append(lr), losses.append(loss)\n",
    "            if (lr > end) or (i > 10 and loss > 3*np.mean(losses[:i])):\n",
    "                break  # Stop if losses shoot up higher than the average loss so far\n",
    "            lr *= 1.03; i += 1        \n",
    "        self.losses = losses  # Previous losses aren't relevant for plotting\n",
    "        self.plot_loss(x = lrs, xlog=True, exp_smooth_param = exp_smooth_param)\n",
    "        self.losses = []  # Reset list\n",
    "        # Note: we don't want to keep the parameters, as at the end of the algorithm\n",
    "        # very high learning rates are used, and the loss is high. Hence, we\n",
    "        # reset it\n",
    "        self.model.load_state_dict(old_state_dict)\n",
    "        \n",
    "    def plot_loss(self, x = None, xlog = False, exp_smooth_param = 0.95):\n",
    "        '''Plots training loss. Each datapoint is a mini-batch.'''\n",
    "        # Note: plots losses from all epochs (since the last lr_find call)\n",
    "        \n",
    "        # Use exponental smoothing with parameter exp_smooth_param\n",
    "        y_smooth = utils.exp_smooth(np.array(self.losses), exp_smooth_param)\n",
    "        f, ax = plt.subplots(figsize=(5, 5))\n",
    "        if xlog:  # Use log on both scales\n",
    "            ax.set(yscale = 'log', xscale = 'log')  \n",
    "        else: \n",
    "            ax.set(yscale = 'log')\n",
    "        if x is not None:\n",
    "            ax = plt.plot(x, y_smooth)\n",
    "        else:\n",
    "            ax = plt.plot(y_smooth)     \n",
    "            \n",
    "    def fit(self, lr, epochs):\n",
    "        \n",
    "        '''Fits model for specified number of epochs, with learning rate lr.'''\n",
    "        \n",
    "        opt = optim.Adam(self.model.parameters(), lr=lr)\n",
    "        \n",
    "        for epoch in range(epochs):\n",
    "        \n",
    "            # Fit model to training data\n",
    "            self.model.train()  # Enables dropout\n",
    "            losses, nums = zip(*[loss_batch(xb, yb, self.model, self.loss_func, opt) \n",
    "                                 for xb,yb in tqdm(self.train_dl, leave = False, position = 0)])\n",
    "            train_loss = np.sum(np.multiply(losses,nums)) / np.sum(nums)\n",
    "            self.losses = self.losses+list(losses)\n",
    "            \n",
    "            # Apply model to validation data\n",
    "            if self.valid_dl != None:             \n",
    "                self.model.eval()  # Disables dropout\n",
    "                with torch.no_grad():  # No gradient calculations\n",
    "                    \n",
    "                    # Note: loss_batch doesn't update parameters if not supplied with\n",
    "                    # an optimizer. So this loop only calculates the loss.\n",
    "                    losses,nums = zip(*[loss_batch(xb, yb, self.model, self.loss_func)\n",
    "                                        for xb,yb in valid_dl])\n",
    "                    val_loss = np.sum(np.multiply(losses,nums)) / np.sum(nums)\n",
    "                    \n",
    "                    # Also compute validation accuracy\n",
    "                    val_preds = self.predict(self.valid_dl)\n",
    "                    y_val = self.valid_dl.dataset.tensors[1]\n",
    "                    acc = utils.accuracy(val_preds, y_val) \n",
    "                    # Note: in this case, refactoring code means we run the model through\n",
    "                    # the validation set twice. That's okay - the validation set is small.\n",
    "                    \n",
    "                print(f'Epoch {epoch}. Training loss: {train_loss}. ' +\n",
    "                      f'Validation loss: {val_loss}. Accuracy: {acc}')  \n",
    "            else:  \n",
    "                print(f'Epoch {epoch}. Training loss: {train_loss}.')\n",
    "                        \n",
    "    def predict(self, dl):\n",
    "        '''Gives predictions on supplied dataloader, concatenates results.'''\n",
    "        self.model.eval()  # No dropout\n",
    "        with torch.no_grad():  # No gradient calculations\n",
    "            res = [self.model(xb.cuda()).argmax(dim = -1).view(-1) for \n",
    "                   xb, _ in tqdm(dl, leave = False, position = 0)]\n",
    "        return torch.cat(res)"
   ]
  },
  {
   "cell_type": "code",
   "execution_count": 35,
   "metadata": {},
   "outputs": [],
   "source": [
    "learn = Learner(model, loss_func, train_dl, valid_dl)"
   ]
  },
  {
   "cell_type": "markdown",
   "metadata": {},
   "source": [
    "Let's use our untrained model to predict the validation set. As expected, it's about as good as chance."
   ]
  },
  {
   "cell_type": "code",
   "execution_count": 36,
   "metadata": {},
   "outputs": [
    {
     "name": "stderr",
     "output_type": "stream",
     "text": []
    },
    {
     "data": {
      "text/plain": [
       "0.07492610077852543"
      ]
     },
     "execution_count": 36,
     "metadata": {},
     "output_type": "execute_result"
    }
   ],
   "source": [
    "preds = learn.predict(valid_dl)\n",
    "utils.accuracy(preds, y_val)"
   ]
  },
  {
   "cell_type": "markdown",
   "metadata": {},
   "source": [
    "In order to fit our model, we have to give it a learning rate. A learning rate that's too high will not converge on a minimum, a learning rate that's too low will take too long to find one.\n",
    "\n",
    "The lr_find method helps us pick a good learning rate: neither too high, nor too low. Originally, the idea was mentioned in [this](https://arxiv.org/abs/1506.01186) paper, a nice blog post explaining the concept is [here](https://sgugger.github.io/how-do-you-find-a-good-learning-rate.html).\n",
    "\n",
    "We start fitting our neural net with a very low learning rate (1e-6). Then after each minibatch, we increase it a little (by 3%). We do it until we reach a rate that's too high (1e3), or until our loss sharply increases.\n",
    "\n",
    "What tends to happen: at low learning rates, our loss doesn't improve. At a certain point, it decreases steeply. However, moving past this optimal range, or loss shoots up as we are taking update steps too big.\n",
    "\n",
    "Here is our (smoothed) loss plotted against the learning rate. Note that we don't want to pick the minimum: at that point the learning rate is already too high. Instead we want to pick a point where we are improving at a steady-but-safe rate."
   ]
  },
  {
   "cell_type": "code",
   "execution_count": 37,
   "metadata": {},
   "outputs": [
    {
     "name": "stderr",
     "output_type": "stream",
     "text": [
      "  1%|          | 411/58938 [00:13<19:20, 50.43it/s]"
     ]
    },
    {
     "data": {
      "image/png": "[encoded data removed]",
      "text/plain": [
       "<Figure size 360x360 with 1 Axes>"
      ]
     },
     "metadata": {
      "needs_background": "light"
     },
     "output_type": "display_data"
    }
   ],
   "source": [
    "learn.lr_find()"
   ]
  },
  {
   "cell_type": "markdown",
   "metadata": {},
   "source": [
    "To err on the safe side, I choose a relatively low rate. Training this network is relatively fast anyway."
   ]
  },
  {
   "cell_type": "code",
   "execution_count": 38,
   "metadata": {},
   "outputs": [
    {
     "name": "stderr",
     "output_type": "stream",
     "text": []
    },
    {
     "name": "stdout",
     "output_type": "stream",
     "text": [
      "Epoch 0. Training loss: 0.024200707927995675. Validation loss: 0.01687554216363138. Accuracy: 0.994563773141693\n"
     ]
    },
    {
     "data": {
      "image/png": "[encoded data removed]",
      "text/plain": [
       "<Figure size 360x360 with 1 Axes>"
      ]
     },
     "metadata": {
      "needs_background": "light"
     },
     "output_type": "display_data"
    }
   ],
   "source": [
    "learn.fit(LR, EPOCHS)\n",
    "#dill.dump(learn.model.state_dict(), open(PATH_TMP/'model0.pickle', mode = 'wb'))\n",
    "learn.plot_loss()"
   ]
  },
  {
   "cell_type": "markdown",
   "metadata": {},
   "source": [
    "We are already achieving good validation accuracy. Our loss seems to stagnate after ~40k mini-batches, so training at this learning rate any more is pointless. Instead, let's decrease our learning rate by two orders of magnitude and fit just a little more to fine-tune our model."
   ]
  },
  {
   "cell_type": "code",
   "execution_count": 39,
   "metadata": {},
   "outputs": [
    {
     "name": "stderr",
     "output_type": "stream",
     "text": [
      "  0%|          | 0/58938 [00:00<?, ?it/s]"
     ]
    },
    {
     "name": "stdout",
     "output_type": "stream",
     "text": [
      "Epoch 0. Training loss: 0.01674373205066949. Validation loss: 0.01636120179469275. Accuracy: 0.9947048460173159\n"
     ]
    },
    {
     "name": "stderr",
     "output_type": "stream",
     "text": [
      "  0%|          | 0/58938 [00:00<?, ?it/s]"
     ]
    },
    {
     "name": "stdout",
     "output_type": "stream",
     "text": [
      "Epoch 1. Training loss: 0.016356444220460103. Validation loss: 0.016171819406788624. Accuracy: 0.9947179690755134\n"
     ]
    },
    {
     "name": "stderr",
     "output_type": "stream",
     "text": []
    },
    {
     "name": "stdout",
     "output_type": "stream",
     "text": [
      "Epoch 2. Training loss: 0.016145913252815735. Validation loss: 0.016031218630567435. Accuracy: 0.994740934427359\n"
     ]
    },
    {
     "data": {
      "image/png": "[encoded data removed]",
      "text/plain": [
       "<Figure size 360x360 with 1 Axes>"
      ]
     },
     "metadata": {
      "needs_background": "light"
     },
     "output_type": "display_data"
    }
   ],
   "source": [
    "learn.fit(LR/1e2, EPOCHS_FT)\n",
    "#dill.dump(learn.model.state_dict(), open(PATH_TMP/'model1.pickle', mode = 'wb'))\n",
    "learn.plot_loss()"
   ]
  },
  {
   "cell_type": "markdown",
   "metadata": {},
   "source": [
    "Even though it's not noticeable on the plot, our loss is actually still decreasing. We could train it a bit further, maybe even experiment with lower learning rates for further fine-tuning. However, our model is pretty good at this point - and early stopping helps with generalizability anyway."
   ]
  },
  {
   "cell_type": "code",
   "execution_count": 40,
   "metadata": {},
   "outputs": [
    {
     "name": "stdout",
     "output_type": "stream",
     "text": [
      "Time after training : 130.40378436644872 mins\n"
     ]
    }
   ],
   "source": [
    "end = time.time()\n",
    "print(f'Time after training : {(end - start)/60} mins')"
   ]
  },
  {
   "cell_type": "markdown",
   "metadata": {},
   "source": [
    "## Predict Test Set\n",
    "\n",
    "We start with mapping our test text to integers as well."
   ]
  },
  {
   "cell_type": "code",
   "execution_count": 41,
   "metadata": {},
   "outputs": [
    {
     "name": "stderr",
     "output_type": "stream",
     "text": []
    }
   ],
   "source": [
    "tt_start = time.time()\n",
    "X_test = utils.numericalize(np.array(test['text']), word2idx, maxlen = SEQ_LEN, word_level = WORD_LEVEL)\n",
    "y_test = np.array([lang2idx[x] for x in test['label']])"
   ]
  },
  {
   "cell_type": "markdown",
   "metadata": {},
   "source": [
    "We then convert our arrays to torch tensors and put them into a data-loader."
   ]
  },
  {
   "cell_type": "code",
   "execution_count": 42,
   "metadata": {},
   "outputs": [],
   "source": [
    "X_test = torch.from_numpy(X_test).type(torch.int64)\n",
    "y_test = torch.from_numpy(y_test).type(torch.int64)\n",
    "\n",
    "test_dl = DataLoader(TensorDataset(X_test, y_test), batch_size=BS, shuffle = False)"
   ]
  },
  {
   "cell_type": "code",
   "execution_count": 43,
   "metadata": {},
   "outputs": [
    {
     "name": "stderr",
     "output_type": "stream",
     "text": [
      "                                                "
     ]
    },
    {
     "name": "stdout",
     "output_type": "stream",
     "text": [
      "Total time for prediction : 1.222090721130371 secs\n",
      "Test set accuracy: 0.9996159016708277\n"
     ]
    },
    {
     "name": "stderr",
     "output_type": "stream",
     "text": []
    }
   ],
   "source": [
    "preds = learn.predict(test_dl)\n",
    "test_time = test_time + time.time() - tt_start\n",
    "print(f'Total time for prediction : {(test_time)} secs')\n",
    "print(f'Test set accuracy: {utils.accuracy(preds, y_test)}')"
   ]
  },
  {
   "cell_type": "markdown",
   "metadata": {},
   "source": [
    "Our test set accuracy is great. Let's have a look at accuracy by language."
   ]
  },
  {
   "cell_type": "code",
   "execution_count": 44,
   "metadata": {},
   "outputs": [
    {
     "name": "stdout",
     "output_type": "stream",
     "text": [
      "Total number of mispredicted: 8 out of 20828\n"
     ]
    },
    {
     "data": {
      "text/plain": [
       "label\n",
       "cs    0.998000\n",
       "ro    0.998922\n",
       "sk    0.998924\n",
       "da    0.999000\n",
       "pl    0.999000\n",
       "et    0.999000\n",
       "fr    0.999000\n",
       "bg    1.000000\n",
       "pt    1.000000\n",
       "nl    1.000000\n",
       "lv    1.000000\n",
       "lt    1.000000\n",
       "hu    1.000000\n",
       "sl    1.000000\n",
       "fi    1.000000\n",
       "es    1.000000\n",
       "en    1.000000\n",
       "el    1.000000\n",
       "de    1.000000\n",
       "it    1.000000\n",
       "sv    1.000000\n",
       "Name: correct, dtype: float64"
      ]
     },
     "execution_count": 44,
     "metadata": {},
     "output_type": "execute_result"
    }
   ],
   "source": [
    "test['pred'] = [idx2lang[x] for x in utils.conv2np(preds)]\n",
    "test['correct'] = (test['pred'] == test['label'])*1\n",
    "inc_total = len(test.index)-sum(test['correct'])\n",
    "print(f\"Total number of mispredicted: {inc_total} out of {len(test.index)}\")\n",
    "test.groupby(by = 'label')['correct'].agg('mean').sort_values()"
   ]
  },
  {
   "cell_type": "markdown",
   "metadata": {},
   "source": [
    "For almost all languages we achieve 100% accuracy. It's also not surprising that Czech and Slovak have the worst accuracy. \n",
    "\n",
    "Let's have a look at the examples we mis-predicted."
   ]
  },
  {
   "cell_type": "code",
   "execution_count": 45,
   "metadata": {},
   "outputs": [],
   "source": [
    "def print_incorrect(n):\n",
    "    \n",
    "    '''Prints n incorrectly classified sentences.'''\n",
    "    \n",
    "    misclas = test[test['correct']==0]\n",
    "    ex = misclas.sample(min(n, len(misclas.index)), replace = False)\n",
    "    \n",
    "    for idx in ex.index:\n",
    "        print(f'class: {test.iloc[idx][\"label\"]}, ', end = \"\")\n",
    "        print(f'predicted: {test.iloc[idx][\"pred\"]}, ', end = \"\")\n",
    "        temp = utils.de_numericalize(X_test.numpy()[idx:(idx+1)], idx2word, word_level = WORD_LEVEL)\n",
    "        print(f'text: {temp}, ', end = \"\")\n",
    "        print('\\n')   "
   ]
  },
  {
   "cell_type": "code",
   "execution_count": 46,
   "metadata": {},
   "outputs": [
    {
     "name": "stdout",
     "output_type": "stream",
     "text": [
      "class: pl, predicted: da, text: ['Regiony te to belgijski region Limburg <punct> <unk> region Limburg i region Aachen <eos>'], \n",
      "\n",
      "class: cs, predicted: hu, text: ['<unk> a manipulace <eos>'], \n",
      "\n",
      "class: sk, predicted: cs, text: ['<unk> strava <punct> rozprava <punct> <eos>'], \n",
      "\n",
      "class: ro, predicted: es, text: ['<unk> este una <unk> <eos>'], \n",
      "\n",
      "class: et, predicted: fi, text: ['<unk> <punct> kas <unk> oli sama <eos>'], \n",
      "\n",
      "class: cs, predicted: el, text: ['<unk> <unk> <unk> alergie <eos>'], \n",
      "\n",
      "class: fr, predicted: da, text: ['Elles se trouvent au British Museum <eos>'], \n",
      "\n",
      "class: da, predicted: en, text: ['Their will is the law <punct> not only at home <punct> but as to the concerns of every nation <eos> <eos> They have swept away the very constitutions under which the <unk>'], \n",
      "\n"
     ]
    }
   ],
   "source": [
    "print_incorrect(10)"
   ]
  },
  {
   "cell_type": "markdown",
   "metadata": {},
   "source": [
    "There are only 8 wrong predictions.\n",
    "1. One of the six is a data error (the 'danish' text is assigned the wrong label).\n",
    "1. Five are short sentences with low-frequency words."
   ]
  },
  {
   "cell_type": "code",
   "execution_count": 47,
   "metadata": {},
   "outputs": [
    {
     "name": "stdout",
     "output_type": "stream",
     "text": [
      "Total time : 130.41245959202448 mins\n"
     ]
    }
   ],
   "source": [
    "end = time.time()\n",
    "print(f'Total time : {(end - start)/60} mins')"
   ]
  },
  {
   "cell_type": "markdown",
   "metadata": {},
   "source": [
    "## Run-Time\n",
    "\n",
    "The whole model takes ~2 hours to train. Training was done on google cloud, with the following machine specifications:\n",
    "\n",
    "- 1 P100 GPU\n",
    "- 30 GB Ram\n",
    "- 8 CPU cores\n",
    "\n",
    "As a pre-embtible instance, such a machine costs ~$0.5 / hour (as of 2018 November). "
   ]
  },
  {
   "cell_type": "markdown",
   "metadata": {},
   "source": [
    "## Try with own example text"
   ]
  },
  {
   "cell_type": "code",
   "execution_count": 48,
   "metadata": {},
   "outputs": [],
   "source": [
    "# These examples are in English, German and Hungarian respectively\n",
    "own_examples = [\"Let's see if this sentence gets classified correctly.\", \n",
    " 'Das können wir auch ausprobieren',\n",
    " 'Ezt a szöveget is megpróbáljuk lefordítani.']"
   ]
  },
  {
   "cell_type": "code",
   "execution_count": 49,
   "metadata": {},
   "outputs": [],
   "source": [
    "def predict_own(ex_list, learn_obj = learn, langmapper = idx2lang, \n",
    "                seq_len = SEQ_LEN,\n",
    "                word2idx = word2idx, word_level = WORD_LEVEL):\n",
    "    '''Predict the language of a a custom list of example sentences. Whole pipeline.'''\n",
    "    y = torch.zeros(len(ex_list))                                     # 1. Dummy y for data loader\n",
    "    f = lambda x: utils.preprocess(x, word_level)\n",
    "    exampl = np.array(list(map(f, ex_list)))                          # 2. Preprocess, convert to numpy\n",
    "    idxs = utils.numericalize(exampl, word2idx, seq_len, word_level)  # 3. Numericalize\n",
    "    idxs = torch.from_numpy(idxs).type(torch.int64)                   # 4. Convert to torch tensor\n",
    "    dl = DataLoader(TensorDataset(idxs, y), batch_size=BS, shuffle = False)  # 6. Put in dataloader\n",
    "    res = learn_obj.predict(dl)                                       # 7. Predict language index\n",
    "    res = [langmapper[x] for x in utils.conv2np(res)]                 # 8. Map index to language\n",
    "    return res"
   ]
  },
  {
   "cell_type": "code",
   "execution_count": 50,
   "metadata": {},
   "outputs": [
    {
     "name": "stderr",
     "output_type": "stream",
     "text": []
    },
    {
     "data": {
      "text/plain": [
       "['en', 'de', 'hu']"
      ]
     },
     "execution_count": 50,
     "metadata": {},
     "output_type": "execute_result"
    }
   ],
   "source": [
    "predict_own(own_examples)"
   ]
  }
 ],
 "metadata": {
  "kernelspec": {
   "display_name": "Python 3",
   "language": "python",
   "name": "python3"
  },
  "language_info": {
   "codemirror_mode": {
    "name": "ipython",
    "version": 3
   },
   "file_extension": ".py",
   "mimetype": "text/x-python",
   "name": "python",
   "nbconvert_exporter": "python",
   "pygments_lexer": "ipython3",
   "version": "3.6.4"
  }
 },
 "nbformat": 4,
 "nbformat_minor": 2
}
