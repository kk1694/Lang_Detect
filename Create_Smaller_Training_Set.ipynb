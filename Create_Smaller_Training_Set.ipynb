{
 "cells": [
  {
   "cell_type": "markdown",
   "metadata": {},
   "source": [
    "# Create a Smaller Training Set\n",
    "\n",
    "The whole language corpus is 5.1 GB unzipped. Developing the model and debugging it would take too long. We want quick iteration.\n",
    "\n",
    "Hence, I will take a sample of the training set for quick development. "
   ]
  },
  {
   "cell_type": "code",
   "execution_count": 1,
   "metadata": {},
   "outputs": [],
   "source": [
    "import os\n",
    "import random\n",
    "import shutil\n",
    "import time\n",
    "\n",
    "from pathlib import Path\n",
    "\n",
    "start = time.time()\n",
    "random.seed(1)"
   ]
  },
  {
   "cell_type": "code",
   "execution_count": 2,
   "metadata": {},
   "outputs": [],
   "source": [
    "# Settings\n",
    "\n",
    "PATH = Path('data/train')  # Origin Directory\n",
    "SAMP_PATH = Path('data/train_sampl')  # Destination for the subsample\n",
    "\n",
    "FRAC= 0.02  # Fraction to be sampled"
   ]
  },
  {
   "cell_type": "code",
   "execution_count": 3,
   "metadata": {
    "scrolled": true
   },
   "outputs": [
    {
     "name": "stdout",
     "output_type": "stream",
     "text": [
      "['fi', 'et', 'it', 'lt', 'pt', 'lv', 'nl', 'pl', 'bg', 'en', 'sk', 'fr', 'da', 'hu', 'cs', 'sl', 'es', 'el', 'ro', 'de', 'sv']\n",
      "Number of languages: 21\n"
     ]
    }
   ],
   "source": [
    "# Get list of languages\n",
    "LANGS = list(map(lambda x: x.name, list(PATH.iterdir())))\n",
    "print(LANGS)\n",
    "print(f'Number of languages: {str(len(LANGS))}')"
   ]
  },
  {
   "cell_type": "code",
   "execution_count": 4,
   "metadata": {},
   "outputs": [],
   "source": [
    "def createDirs(parent, children):\n",
    "    '''Create subdirectories from parent. children is a list of subdirectories to be created.'''\n",
    "    for child in children:\n",
    "        p = parent / child\n",
    "        p.mkdir(parents=True, exist_ok=True)"
   ]
  },
  {
   "cell_type": "code",
   "execution_count": 5,
   "metadata": {},
   "outputs": [],
   "source": [
    "createDirs(SAMP_PATH, LANGS)"
   ]
  },
  {
   "cell_type": "code",
   "execution_count": 6,
   "metadata": {},
   "outputs": [],
   "source": [
    "def moveList(fn_list, newdir):\n",
    "    '''Move a list of files to a new directory. Returns sizes of moved files (in MB)'''\n",
    "    sz = 0\n",
    "    for fn in fn_list:\n",
    "        shutil.copy(str(fn), str(newdir/fn.name))\n",
    "        sz += os.path.getsize(fn)\n",
    "    print(f'Moved {str(sz/1e6)} Mb to {str(newdir)}')\n",
    "    return sz / 1e6"
   ]
  },
  {
   "cell_type": "code",
   "execution_count": 7,
   "metadata": {},
   "outputs": [
    {
     "name": "stdout",
     "output_type": "stream",
     "text": [
      "Moved 7.286684 Mb to data/train_sampl/fi\n",
      "Moved 1.887378 Mb to data/train_sampl/et\n",
      "Moved 7.971494 Mb to data/train_sampl/it\n",
      "Moved 2.20503 Mb to data/train_sampl/lt\n",
      "Moved 7.709349 Mb to data/train_sampl/pt\n",
      "Moved 2.638039 Mb to data/train_sampl/lv\n",
      "Moved 6.242693 Mb to data/train_sampl/nl\n",
      "Moved 1.840279 Mb to data/train_sampl/pl\n",
      "Moved 1.435472 Mb to data/train_sampl/bg\n",
      "Moved 3.772149 Mb to data/train_sampl/en\n",
      "Moved 1.390518 Mb to data/train_sampl/sk\n",
      "Moved 5.557626 Mb to data/train_sampl/fr\n",
      "Moved 9.095126 Mb to data/train_sampl/da\n",
      "Moved 2.24294 Mb to data/train_sampl/hu\n",
      "Moved 3.245639 Mb to data/train_sampl/cs\n",
      "Moved 1.489168 Mb to data/train_sampl/sl\n",
      "Moved 6.291547 Mb to data/train_sampl/es\n",
      "Moved 9.462035 Mb to data/train_sampl/el\n",
      "Moved 1.159719 Mb to data/train_sampl/ro\n",
      "Moved 6.53398 Mb to data/train_sampl/de\n",
      "Moved 5.618578 Mb to data/train_sampl/sv\n"
     ]
    }
   ],
   "source": [
    "sizes = {}  # Storing the destination dir sizes (MB)\n",
    "num_fns = {}  # Storing the number of text files in destination\n",
    "for lang in LANGS:\n",
    "    src_dir = PATH/lang\n",
    "    fns = list(src_dir.glob('*.txt'))\n",
    "    sub = random.sample(fns, int(len(fns)*FRAC))\n",
    "    num_fns[lang] = len(sub)\n",
    "    sizes[lang] = moveList(sub, SAMP_PATH/lang)"
   ]
  },
  {
   "cell_type": "code",
   "execution_count": 8,
   "metadata": {},
   "outputs": [
    {
     "name": "stdout",
     "output_type": "stream",
     "text": [
      "[('bg', 131), ('ro', 131), ('sl', 174), ('lv', 175), ('hu', 175), ('et', 176), ('lt', 176), ('pl', 176), ('sk', 176), ('cs', 176), ('de', 184), ('el', 185), ('fi', 186), ('da', 187), ('pt', 188), ('nl', 188), ('es', 188), ('sv', 188), ('it', 189), ('fr', 189), ('en', 193)]\n",
      "\n",
      "\n",
      "[('ro', 1.159719), ('sk', 1.390518), ('bg', 1.435472), ('sl', 1.489168), ('pl', 1.840279), ('et', 1.887378), ('lt', 2.20503), ('hu', 2.24294), ('lv', 2.638039), ('cs', 3.245639), ('en', 3.772149), ('fr', 5.557626), ('sv', 5.618578), ('nl', 6.242693), ('es', 6.291547), ('de', 6.53398), ('fi', 7.286684), ('pt', 7.709349), ('it', 7.971494), ('da', 9.095126), ('el', 9.462035)]\n"
     ]
    }
   ],
   "source": [
    "def sorted_dic(x): return sorted(x.items(), key=lambda kv: kv[1])\n",
    "\n",
    "print(sorted_dic(num_fns))\n",
    "print('\\n')\n",
    "print(sorted_dic(sizes))"
   ]
  },
  {
   "cell_type": "markdown",
   "metadata": {},
   "source": [
    "Looks like the number of files is quite similar for all languages (range: 65 - 96).\n",
    "\n",
    "File sizes differ by a factor of 10."
   ]
  },
  {
   "cell_type": "code",
   "execution_count": 9,
   "metadata": {},
   "outputs": [
    {
     "name": "stdout",
     "output_type": "stream",
     "text": [
      "Total time : 0.06659005085627238 mins\n"
     ]
    }
   ],
   "source": [
    "end = time.time()\n",
    "print(f'Total time : {(end - start)/60} mins')"
   ]
  }
 ],
 "metadata": {
  "kernelspec": {
   "display_name": "pytorch_env",
   "language": "python",
   "name": "pytorch_env"
  },
  "language_info": {
   "codemirror_mode": {
    "name": "ipython",
    "version": 3
   },
   "file_extension": ".py",
   "mimetype": "text/x-python",
   "name": "python",
   "nbconvert_exporter": "python",
   "pygments_lexer": "ipython3",
   "version": "3.7.0"
  }
 },
 "nbformat": 4,
 "nbformat_minor": 2
}
