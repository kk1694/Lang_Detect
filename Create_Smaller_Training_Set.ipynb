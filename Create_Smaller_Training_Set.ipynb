{
 "cells": [
  {
   "cell_type": "markdown",
   "metadata": {},
   "source": [
    "# Create a Smaller Training Set\n",
    "\n",
    "The whole language corpus is 5.1 GB unzipped. Developing the model and debugging it would take too long. We want quick iteration.\n",
    "\n",
    "Hence, I will take a sample of the training set. "
   ]
  },
  {
   "cell_type": "code",
   "execution_count": 1,
   "metadata": {},
   "outputs": [],
   "source": [
    "import os\n",
    "import pathlib\n",
    "import random\n",
    "import shutil\n",
    "\n",
    "random.seed(1)"
   ]
  },
  {
   "cell_type": "code",
   "execution_count": 2,
   "metadata": {},
   "outputs": [],
   "source": [
    "# Settings\n",
    "\n",
    "PATH = pathlib.Path('txt')  # Origin Directory\n",
    "SAMP_PATH = pathlib.Path('train_sampl')  # Destination for the subsample\n",
    "\n",
    "FRAC= 0.01  # Fraction to be sampled"
   ]
  },
  {
   "cell_type": "code",
   "execution_count": 3,
   "metadata": {
    "scrolled": true
   },
   "outputs": [
    {
     "name": "stdout",
     "output_type": "stream",
     "text": [
      "['nl', 'lv', 'es', 'el', 'cs', 'sl', 'it', 'fr', 'pt', 'fi', 'lt', 'da', 'et', 'de', 'ro', 'bg', 'pl', 'sv', 'en', 'hu', 'sk']\n",
      "Number of languages: 21\n"
     ]
    }
   ],
   "source": [
    "# Get list of languages\n",
    "LANGS = list(map(lambda x: x.name, list(PATH.iterdir())))\n",
    "print(LANGS)\n",
    "print(f'Number of languages: {str(len(LANGS))}')"
   ]
  },
  {
   "cell_type": "code",
   "execution_count": 4,
   "metadata": {},
   "outputs": [],
   "source": [
    "def createDirs(parent, children):\n",
    "    '''Create a set of subdirectories from parent.'''\n",
    "    for child in children:\n",
    "        p = parent / child\n",
    "        p.mkdir(parents=True, exist_ok=True)"
   ]
  },
  {
   "cell_type": "code",
   "execution_count": 5,
   "metadata": {},
   "outputs": [],
   "source": [
    "createDirs(SAMP_PATH, LANGS)"
   ]
  },
  {
   "cell_type": "code",
   "execution_count": 6,
   "metadata": {},
   "outputs": [],
   "source": [
    "def moveList(fn_list, newdir):\n",
    "    '''Move a list of files to a new directory.'''\n",
    "    sz = 0\n",
    "    for fn in fn_list:\n",
    "        shutil.copy(str(fn), str(newdir/fn.name))\n",
    "        sz += os.path.getsize(fn)\n",
    "    print(f'Moved {str(sz/1e6)} Mb to {str(newdir)}')\n",
    "    return sz / 1e6"
   ]
  },
  {
   "cell_type": "code",
   "execution_count": 7,
   "metadata": {},
   "outputs": [
    {
     "name": "stdout",
     "output_type": "stream",
     "text": [
      "Moved 4.440373 Mb to train_sampl/nl\n",
      "Moved 1.135789 Mb to train_sampl/lv\n",
      "Moved 2.978393 Mb to train_sampl/es\n",
      "Moved 4.223865 Mb to train_sampl/el\n",
      "Moved 0.709064 Mb to train_sampl/cs\n",
      "Moved 1.022458 Mb to train_sampl/sl\n",
      "Moved 3.534307 Mb to train_sampl/it\n",
      "Moved 4.597801 Mb to train_sampl/fr\n",
      "Moved 2.771892 Mb to train_sampl/pt\n",
      "Moved 3.596482 Mb to train_sampl/fi\n",
      "Moved 1.003252 Mb to train_sampl/lt\n",
      "Moved 4.09755 Mb to train_sampl/da\n",
      "Moved 0.667176 Mb to train_sampl/et\n",
      "Moved 3.59453 Mb to train_sampl/de\n",
      "Moved 0.269565 Mb to train_sampl/ro\n",
      "Moved 0.467658 Mb to train_sampl/bg\n",
      "Moved 0.605841 Mb to train_sampl/pl\n",
      "Moved 2.413989 Mb to train_sampl/sv\n",
      "Moved 4.903372 Mb to train_sampl/en\n",
      "Moved 1.227479 Mb to train_sampl/hu\n",
      "Moved 1.032164 Mb to train_sampl/sk\n"
     ]
    }
   ],
   "source": [
    "sizes = {}  # Storing the destination dir sizes (MB)\n",
    "num_fns = {}  # Storing the number of text files in destination\n",
    "for lang in LANGS:\n",
    "    src_dir = PATH/lang\n",
    "    fns = list(src_dir.glob('*.txt'))\n",
    "    sub = random.sample(fns, int(len(fns)*FRAC))\n",
    "    num_fns[lang] = len(sub)\n",
    "    sizes[lang] = moveList(sub, SAMP_PATH/lang)"
   ]
  },
  {
   "cell_type": "code",
   "execution_count": 8,
   "metadata": {},
   "outputs": [],
   "source": [
    "def sorted_dic(x): return sorted(x.items(), key=lambda kv: kv[1])"
   ]
  },
  {
   "cell_type": "code",
   "execution_count": 9,
   "metadata": {},
   "outputs": [
    {
     "name": "stdout",
     "output_type": "stream",
     "text": [
      "[('ro', 65), ('bg', 65), ('lv', 87), ('sl', 87), ('hu', 87), ('cs', 88), ('lt', 88), ('et', 88), ('pl', 88), ('sk', 88), ('el', 92), ('de', 92), ('fi', 93), ('da', 93), ('nl', 94), ('es', 94), ('it', 94), ('fr', 94), ('pt', 94), ('sv', 94), ('en', 96)]\n"
     ]
    }
   ],
   "source": [
    "print(sorted_dic(num_fns))"
   ]
  },
  {
   "cell_type": "code",
   "execution_count": 10,
   "metadata": {},
   "outputs": [
    {
     "name": "stdout",
     "output_type": "stream",
     "text": [
      "[('ro', 0.269565), ('bg', 0.467658), ('pl', 0.605841), ('et', 0.667176), ('cs', 0.709064), ('lt', 1.003252), ('sl', 1.022458), ('sk', 1.032164), ('lv', 1.135789), ('hu', 1.227479), ('sv', 2.413989), ('pt', 2.771892), ('es', 2.978393), ('it', 3.534307), ('de', 3.59453), ('fi', 3.596482), ('da', 4.09755), ('el', 4.223865), ('nl', 4.440373), ('fr', 4.597801), ('en', 4.903372)]\n"
     ]
    }
   ],
   "source": [
    "print(sorted_dic(sizes))"
   ]
  },
  {
   "cell_type": "markdown",
   "metadata": {},
   "source": [
    "Looks like the number of files is quite similar for all languages (range: 65 - 96).\n",
    "\n",
    "File sizes differ by a factor of 10. Romanian has the smallest sampled corpus with 0.26 Mb."
   ]
  }
 ],
 "metadata": {
  "kernelspec": {
   "display_name": "Python 3",
   "language": "python",
   "name": "python3"
  },
  "language_info": {
   "codemirror_mode": {
    "name": "ipython",
    "version": 3
   },
   "file_extension": ".py",
   "mimetype": "text/x-python",
   "name": "python",
   "nbconvert_exporter": "python",
   "pygments_lexer": "ipython3",
   "version": "3.6.4"
  }
 },
 "nbformat": 4,
 "nbformat_minor": 2
}
