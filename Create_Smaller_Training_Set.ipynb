{
 "cells": [
  {
   "cell_type": "markdown",
   "metadata": {},
   "source": [
    "# Create a Smaller Training Set\n",
    "\n",
    "The whole language corpus is 5.1 GB unzipped. Developing the model and debugging it would take too long. We want quick iteration.\n",
    "\n",
    "Hence, I will take a sample of the training set for quick development. "
   ]
  },
  {
   "cell_type": "code",
   "execution_count": 1,
   "metadata": {},
   "outputs": [],
   "source": [
    "import os\n",
    "import random\n",
    "import shutil\n",
    "import time\n",
    "\n",
    "from pathlib import Path\n",
    "\n",
    "start = time.time()\n",
    "random.seed(1)"
   ]
  },
  {
   "cell_type": "code",
   "execution_count": 2,
   "metadata": {},
   "outputs": [],
   "source": [
    "# Settings\n",
    "\n",
    "PATH = Path('data/train')  # Origin Directory\n",
    "SAMP_PATH = Path('data/train_sampl_1pct')  # Destination for the subsample\n",
    "\n",
    "FRAC= 0.01  # Fraction to be sampled"
   ]
  },
  {
   "cell_type": "code",
   "execution_count": 3,
   "metadata": {
    "scrolled": true
   },
   "outputs": [
    {
     "name": "stdout",
     "output_type": "stream",
     "text": [
      "['fi', 'et', 'it', 'lt', 'pt', 'lv', 'nl', 'pl', 'bg', 'en', 'sk', 'fr', 'da', 'hu', 'cs', 'sl', 'es', 'el', 'ro', 'de', 'sv']\n",
      "Number of languages: 21\n"
     ]
    }
   ],
   "source": [
    "# Get list of languages\n",
    "LANGS = list(map(lambda x: x.name, list(PATH.iterdir())))\n",
    "print(LANGS)\n",
    "print(f'Number of languages: {str(len(LANGS))}')"
   ]
  },
  {
   "cell_type": "code",
   "execution_count": 4,
   "metadata": {},
   "outputs": [],
   "source": [
    "def createDirs(parent, children):\n",
    "    '''Create subdirectories from parent. children is a list of subdirectories to be created.'''\n",
    "    for child in children:\n",
    "        p = parent / child\n",
    "        p.mkdir(parents=True, exist_ok=True)"
   ]
  },
  {
   "cell_type": "code",
   "execution_count": 5,
   "metadata": {},
   "outputs": [],
   "source": [
    "createDirs(SAMP_PATH, LANGS)"
   ]
  },
  {
   "cell_type": "code",
   "execution_count": 6,
   "metadata": {},
   "outputs": [],
   "source": [
    "def moveList(fn_list, newdir):\n",
    "    '''Move a list of files to a new directory. Returns sizes of moved files (in MB)'''\n",
    "    sz = 0\n",
    "    for fn in fn_list:\n",
    "        shutil.copy(str(fn), str(newdir/fn.name))\n",
    "        sz += os.path.getsize(fn)\n",
    "    print(f'Moved {str(sz/1e6)} Mb to {str(newdir)}')\n",
    "    return sz / 1e6"
   ]
  },
  {
   "cell_type": "code",
   "execution_count": 7,
   "metadata": {},
   "outputs": [
    {
     "name": "stdout",
     "output_type": "stream",
     "text": [
      "Moved 3.444598 Mb to data/train_sampl_1pct/fi\n",
      "Moved 1.096267 Mb to data/train_sampl_1pct/et\n",
      "Moved 2.859454 Mb to data/train_sampl_1pct/it\n",
      "Moved 0.656748 Mb to data/train_sampl_1pct/lt\n",
      "Moved 3.177443 Mb to data/train_sampl_1pct/pt\n",
      "Moved 0.626933 Mb to data/train_sampl_1pct/lv\n",
      "Moved 2.959135 Mb to data/train_sampl_1pct/nl\n",
      "Moved 0.934612 Mb to data/train_sampl_1pct/pl\n",
      "Moved 1.19858 Mb to data/train_sampl_1pct/bg\n",
      "Moved 5.050996 Mb to data/train_sampl_1pct/en\n",
      "Moved 0.894408 Mb to data/train_sampl_1pct/sk\n",
      "Moved 3.606695 Mb to data/train_sampl_1pct/fr\n",
      "Moved 4.568994 Mb to data/train_sampl_1pct/da\n",
      "Moved 1.213034 Mb to data/train_sampl_1pct/hu\n",
      "Moved 0.9218 Mb to data/train_sampl_1pct/cs\n",
      "Moved 0.842085 Mb to data/train_sampl_1pct/sl\n",
      "Moved 3.321063 Mb to data/train_sampl_1pct/es\n",
      "Moved 6.37172 Mb to data/train_sampl_1pct/el\n",
      "Moved 0.713616 Mb to data/train_sampl_1pct/ro\n",
      "Moved 3.153675 Mb to data/train_sampl_1pct/de\n",
      "Moved 3.474459 Mb to data/train_sampl_1pct/sv\n"
     ]
    }
   ],
   "source": [
    "sizes = {}  # Storing the destination dir sizes (MB)\n",
    "num_fns = {}  # Storing the number of text files in destination\n",
    "for lang in LANGS:\n",
    "    src_dir = PATH/lang\n",
    "    fns = list(src_dir.glob('*.txt'))\n",
    "    sub = random.sample(fns, int(len(fns)*FRAC))\n",
    "    num_fns[lang] = len(sub)\n",
    "    sizes[lang] = moveList(sub, SAMP_PATH/lang)"
   ]
  },
  {
   "cell_type": "code",
   "execution_count": 8,
   "metadata": {},
   "outputs": [
    {
     "name": "stdout",
     "output_type": "stream",
     "text": [
      "[('bg', 65), ('ro', 65), ('lv', 87), ('hu', 87), ('sl', 87), ('et', 88), ('lt', 88), ('pl', 88), ('sk', 88), ('cs', 88), ('el', 92), ('de', 92), ('fi', 93), ('da', 93), ('it', 94), ('pt', 94), ('nl', 94), ('fr', 94), ('es', 94), ('sv', 94), ('en', 96)]\n",
      "\n",
      "\n",
      "[('lv', 0.626933), ('lt', 0.656748), ('ro', 0.713616), ('sl', 0.842085), ('sk', 0.894408), ('cs', 0.9218), ('pl', 0.934612), ('et', 1.096267), ('bg', 1.19858), ('hu', 1.213034), ('it', 2.859454), ('nl', 2.959135), ('de', 3.153675), ('pt', 3.177443), ('es', 3.321063), ('fi', 3.444598), ('sv', 3.474459), ('fr', 3.606695), ('da', 4.568994), ('en', 5.050996), ('el', 6.37172)]\n"
     ]
    }
   ],
   "source": [
    "def sorted_dic(x): return sorted(x.items(), key=lambda kv: kv[1])\n",
    "\n",
    "print(sorted_dic(num_fns))\n",
    "print('\\n')\n",
    "print(sorted_dic(sizes))"
   ]
  },
  {
   "cell_type": "markdown",
   "metadata": {},
   "source": [
    "Looks like the number of files is quite similar for all languages (range: 65 - 96).\n",
    "\n",
    "File sizes differ by a factor of 10."
   ]
  },
  {
   "cell_type": "code",
   "execution_count": 9,
   "metadata": {},
   "outputs": [
    {
     "name": "stdout",
     "output_type": "stream",
     "text": [
      "Total time : 0.012813985347747803 mins\n"
     ]
    }
   ],
   "source": [
    "end = time.time()\n",
    "print(f'Total time : {(end - start)/60} mins')"
   ]
  }
 ],
 "metadata": {
  "kernelspec": {
   "display_name": "pytorch_env",
   "language": "python",
   "name": "pytorch_env"
  },
  "language_info": {
   "codemirror_mode": {
    "name": "ipython",
    "version": 3
   },
   "file_extension": ".py",
   "mimetype": "text/x-python",
   "name": "python",
   "nbconvert_exporter": "python",
   "pygments_lexer": "ipython3",
   "version": "3.7.0"
  }
 },
 "nbformat": 4,
 "nbformat_minor": 2
}
