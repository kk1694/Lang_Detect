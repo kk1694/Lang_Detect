{
 "cells": [
  {
   "cell_type": "markdown",
   "metadata": {},
   "source": [
    "# Create a Smaller Training Set\n",
    "\n",
    "The whole language corpus is 5.1 GB unzipped. Developing the model and debugging it would take too long. We want quick iteration.\n",
    "\n",
    "Hence, I will take a sample of the training set for quick development. "
   ]
  },
  {
   "cell_type": "code",
   "execution_count": 1,
   "metadata": {},
   "outputs": [],
   "source": [
    "import os\n",
    "import random\n",
    "import shutil\n",
    "import time\n",
    "\n",
    "from pathlib import Path\n",
    "\n",
    "start = time.time()\n",
    "random.seed(1)"
   ]
  },
  {
   "cell_type": "code",
   "execution_count": 2,
   "metadata": {},
   "outputs": [],
   "source": [
    "# Settings\n",
    "\n",
    "PATH = Path('data/train')  # Origin Directory\n",
    "SAMP_PATH = Path('data/train_sampl')  # Destination for the subsample\n",
    "\n",
    "FRAC= 0.05  # Fraction to be sampled"
   ]
  },
  {
   "cell_type": "code",
   "execution_count": 3,
   "metadata": {
    "scrolled": true
   },
   "outputs": [
    {
     "name": "stdout",
     "output_type": "stream",
     "text": [
      "['fi', 'et', 'it', 'lt', 'pt', 'lv', 'nl', 'pl', 'bg', 'en', 'sk', 'fr', 'da', 'hu', 'cs', 'sl', 'es', 'el', 'ro', 'de', 'sv']\n",
      "Number of languages: 21\n"
     ]
    }
   ],
   "source": [
    "# Get list of languages\n",
    "LANGS = list(map(lambda x: x.name, list(PATH.iterdir())))\n",
    "print(LANGS)\n",
    "print(f'Number of languages: {str(len(LANGS))}')"
   ]
  },
  {
   "cell_type": "code",
   "execution_count": 4,
   "metadata": {},
   "outputs": [],
   "source": [
    "def createDirs(parent, children):\n",
    "    '''Create subdirectories from parent. children is a list of subdirectories to be created.'''\n",
    "    for child in children:\n",
    "        p = parent / child\n",
    "        p.mkdir(parents=True, exist_ok=True)"
   ]
  },
  {
   "cell_type": "code",
   "execution_count": 5,
   "metadata": {},
   "outputs": [],
   "source": [
    "createDirs(SAMP_PATH, LANGS)"
   ]
  },
  {
   "cell_type": "code",
   "execution_count": 6,
   "metadata": {},
   "outputs": [],
   "source": [
    "def moveList(fn_list, newdir):\n",
    "    '''Move a list of files to a new directory. Returns sizes of moved files (in MB)'''\n",
    "    sz = 0\n",
    "    for fn in fn_list:\n",
    "        shutil.copy(str(fn), str(newdir/fn.name))\n",
    "        sz += os.path.getsize(fn)\n",
    "    print(f'Moved {str(sz/1e6)} Mb to {str(newdir)}')\n",
    "    return sz / 1e6"
   ]
  },
  {
   "cell_type": "code",
   "execution_count": 7,
   "metadata": {},
   "outputs": [
    {
     "name": "stdout",
     "output_type": "stream",
     "text": [
      "Moved 16.632654 Mb to data/train_sampl/fi\n",
      "Moved 5.086472 Mb to data/train_sampl/et\n",
      "Moved 20.057877 Mb to data/train_sampl/it\n",
      "Moved 5.014759 Mb to data/train_sampl/lt\n",
      "Moved 18.737812 Mb to data/train_sampl/pt\n",
      "Moved 4.660141 Mb to data/train_sampl/lv\n",
      "Moved 18.311466 Mb to data/train_sampl/nl\n",
      "Moved 7.000829 Mb to data/train_sampl/pl\n",
      "Moved 7.50399 Mb to data/train_sampl/bg\n",
      "Moved 18.661888 Mb to data/train_sampl/en\n",
      "Moved 5.761011 Mb to data/train_sampl/sk\n",
      "Moved 16.878143 Mb to data/train_sampl/fr\n",
      "Moved 17.539768 Mb to data/train_sampl/da\n",
      "Moved 5.038574 Mb to data/train_sampl/hu\n",
      "Moved 4.843666 Mb to data/train_sampl/cs\n",
      "Moved 4.857163 Mb to data/train_sampl/sl\n",
      "Moved 22.853735 Mb to data/train_sampl/es\n",
      "Moved 29.460235 Mb to data/train_sampl/el\n",
      "Moved 3.504754 Mb to data/train_sampl/ro\n",
      "Moved 21.435025 Mb to data/train_sampl/de\n",
      "Moved 20.786777 Mb to data/train_sampl/sv\n"
     ]
    }
   ],
   "source": [
    "sizes = {}  # Storing the destination dir sizes (MB)\n",
    "num_fns = {}  # Storing the number of text files in destination\n",
    "for lang in LANGS:\n",
    "    src_dir = PATH/lang\n",
    "    fns = list(src_dir.glob('*.txt'))\n",
    "    sub = random.sample(fns, int(len(fns)*FRAC))\n",
    "    num_fns[lang] = len(sub)\n",
    "    sizes[lang] = moveList(sub, SAMP_PATH/lang)"
   ]
  },
  {
   "cell_type": "code",
   "execution_count": 8,
   "metadata": {},
   "outputs": [
    {
     "name": "stdout",
     "output_type": "stream",
     "text": [
      "[('ro', 328), ('bg', 329), ('sl', 437), ('hu', 438), ('lv', 439), ('et', 440), ('lt', 440), ('sk', 440), ('pl', 441), ('cs', 442), ('de', 461), ('el', 463), ('fi', 466), ('da', 468), ('sv', 470), ('pt', 471), ('nl', 471), ('es', 471), ('fr', 472), ('it', 474), ('en', 483)]\n",
      "\n",
      "\n",
      "[('ro', 3.504754), ('lv', 4.660141), ('cs', 4.843666), ('sl', 4.857163), ('lt', 5.014759), ('hu', 5.038574), ('et', 5.086472), ('sk', 5.761011), ('pl', 7.000829), ('bg', 7.50399), ('fi', 16.632654), ('fr', 16.878143), ('da', 17.539768), ('nl', 18.311466), ('en', 18.661888), ('pt', 18.737812), ('it', 20.057877), ('sv', 20.786777), ('de', 21.435025), ('es', 22.853735), ('el', 29.460235)]\n"
     ]
    }
   ],
   "source": [
    "def sorted_dic(x): return sorted(x.items(), key=lambda kv: kv[1])\n",
    "\n",
    "print(sorted_dic(num_fns))\n",
    "print('\\n')\n",
    "print(sorted_dic(sizes))"
   ]
  },
  {
   "cell_type": "markdown",
   "metadata": {},
   "source": [
    "Looks like the number of files is quite similar for all languages (range: 65 - 96).\n",
    "\n",
    "File sizes differ by a factor of 10."
   ]
  },
  {
   "cell_type": "code",
   "execution_count": 9,
   "metadata": {},
   "outputs": [
    {
     "name": "stdout",
     "output_type": "stream",
     "text": [
      "Total time : 0.0238874355951945 mins\n"
     ]
    }
   ],
   "source": [
    "end = time.time()\n",
    "print(f'Total time : {(end - start)/60} mins')"
   ]
  }
 ],
 "metadata": {
  "kernelspec": {
   "display_name": "pytorch_env",
   "language": "python",
   "name": "pytorch_env"
  },
  "language_info": {
   "codemirror_mode": {
    "name": "ipython",
    "version": 3
   },
   "file_extension": ".py",
   "mimetype": "text/x-python",
   "name": "python",
   "nbconvert_exporter": "python",
   "pygments_lexer": "ipython3",
   "version": "3.7.0"
  }
 },
 "nbformat": 4,
 "nbformat_minor": 2
}
